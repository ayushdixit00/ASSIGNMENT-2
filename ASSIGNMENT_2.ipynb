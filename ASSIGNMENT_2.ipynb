{
 "cells": [
  {
   "cell_type": "code",
   "execution_count": 1,
   "id": "e12668ca-ba5d-4779-82ae-798ea163a365",
   "metadata": {},
   "outputs": [],
   "source": [
    "# Write a program to reverse a string."
   ]
  },
  {
   "cell_type": "code",
   "execution_count": 3,
   "id": "898e2fe2-e972-434e-be4c-c1f49d203ffa",
   "metadata": {},
   "outputs": [
    {
     "name": "stdin",
     "output_type": "stream",
     "text": [
      "string ayush\n"
     ]
    },
    {
     "name": "stdout",
     "output_type": "stream",
     "text": [
      "reverse of string hsuya\n"
     ]
    }
   ],
   "source": [
    "a= input(\"string\")\n",
    "b= a[::-1]\n",
    "print(\"reverse of string\",b)\n",
    "         "
   ]
  },
  {
   "cell_type": "code",
   "execution_count": 5,
   "id": "ae320213-38b6-4ff4-9faf-01159bed0e01",
   "metadata": {},
   "outputs": [],
   "source": [
    "# Check if a string is a palindrome."
   ]
  },
  {
   "cell_type": "code",
   "execution_count": 8,
   "id": "e585eaf2-2290-4b2a-9762-7d121b9d45f9",
   "metadata": {},
   "outputs": [
    {
     "name": "stdout",
     "output_type": "stream",
     "text": [
      "True\n"
     ]
    }
   ],
   "source": [
    "def is_palindrome(input_string):\n",
    "    input_string = ''.join(filter(str.isalnum, input_string)).lower()\n",
    "    return input_string == input_string[::-1]\n",
    "\n",
    "# Example usage:\n",
    "input_string = \"A man, a plan, a canal, Panama!\"\n",
    "result = is_palindrome(input_string)\n",
    "print(result)  # This will also print True because the input is a palindrome.\n"
   ]
  },
  {
   "cell_type": "code",
   "execution_count": 9,
   "id": "97656c4c-4680-44c1-a378-b0c1d98cf49f",
   "metadata": {},
   "outputs": [],
   "source": [
    "#Convert a string to uppercase."
   ]
  },
  {
   "cell_type": "code",
   "execution_count": 10,
   "id": "7f05adba-b393-42b2-8583-91c1d4103112",
   "metadata": {},
   "outputs": [
    {
     "name": "stdout",
     "output_type": "stream",
     "text": [
      "I AM NOT GEETING QUESTION NUMBER TWO \n"
     ]
    }
   ],
   "source": [
    "a= \"i am not geeting question number two \"\n",
    "b= a.upper()\n",
    "print(b)"
   ]
  },
  {
   "cell_type": "code",
   "execution_count": null,
   "id": "13deff40-d376-4987-a015-45a76f07c786",
   "metadata": {},
   "outputs": [],
   "source": [
    "#Convert a string to lowercase."
   ]
  },
  {
   "cell_type": "code",
   "execution_count": 11,
   "id": "25f4e48f-37db-4676-b01e-af94dd2ec7f2",
   "metadata": {},
   "outputs": [
    {
     "name": "stdout",
     "output_type": "stream",
     "text": [
      "jai shree ram\n"
     ]
    }
   ],
   "source": [
    "original_string = \"JAI SHREE RAM\"\n",
    "lowercase_string = original_string.lower()\n",
    "print(lowercase_string)\n"
   ]
  },
  {
   "cell_type": "code",
   "execution_count": 12,
   "id": "b0d815f8-518c-4c1b-b2da-7288165bfc83",
   "metadata": {},
   "outputs": [],
   "source": [
    "#Count the number of vowels in a string."
   ]
  },
  {
   "cell_type": "code",
   "execution_count": 1,
   "id": "0a2a7b48-c819-47c7-8547-40558d390a80",
   "metadata": {},
   "outputs": [
    {
     "name": "stdout",
     "output_type": "stream",
     "text": [
      "Number of vowels: 6\n"
     ]
    }
   ],
   "source": [
    "def count_vowels(input_string):\n",
    "    # Convert the input string to lowercase to make it case-insensitive.\n",
    "    input_string = input_string.lower()\n",
    "    \n",
    "    # Define a list of vowels.\n",
    "    vowels = ['a', 'e', 'i', 'o', 'u']\n",
    "    \n",
    "    # Use a list comprehension to count the vowels.\n",
    "    vowel_count = sum(input_string.count(vowel) for vowel in vowels)\n",
    "    \n",
    "    return vowel_count\n",
    "\n",
    "# Example usage:\n",
    "input_string = \"i am ayush dixit\"\n",
    "result = count_vowels(input_string)\n",
    "print(\"Number of vowels:\", result)\n"
   ]
  },
  {
   "cell_type": "code",
   "execution_count": 1,
   "id": "3345a825-f096-4aa3-b8ec-93158ee8f52f",
   "metadata": {},
   "outputs": [],
   "source": [
    "#Count the number of consonants in a string."
   ]
  },
  {
   "cell_type": "code",
   "execution_count": 3,
   "id": "d0cc0b7c-592d-4102-a5cd-fbaf85a7b2f4",
   "metadata": {},
   "outputs": [
    {
     "name": "stdout",
     "output_type": "stream",
     "text": [
      "Number of consonants: 4\n"
     ]
    }
   ],
   "source": [
    "def count_consonants(string):\n",
    "    # Define a list of consonants\n",
    "    consonants = \"bcdfghjklmnpqrstvwxyzBCDFGHJKLMNPQRSTVWXYZ\"\n",
    "    \n",
    "    # Initialize a counter for consonants\n",
    "    consonant_count = 0\n",
    "    \n",
    "    # Iterate through the characters in the string\n",
    "    for char in string:\n",
    "        # Check if the character is a consonant\n",
    "        if char in consonants:\n",
    "            consonant_count += 1\n",
    "    \n",
    "    return consonant_count\n",
    "\n",
    "# Example usage:\n",
    "input_string = \" i am ayush\"\n",
    "result = count_consonants(input_string)\n",
    "print(\"Number of consonants:\", result)\n"
   ]
  },
  {
   "cell_type": "code",
   "execution_count": null,
   "id": "4ed9861f-3acb-443c-826d-c747a6bc97f4",
   "metadata": {},
   "outputs": [],
   "source": [
    "#Remove all whitespaces from a string."
   ]
  },
  {
   "cell_type": "code",
   "execution_count": 5,
   "id": "1580d89d-cef3-4c0b-b999-e4371b8c3aa2",
   "metadata": {},
   "outputs": [
    {
     "name": "stdout",
     "output_type": "stream",
     "text": [
      "String with whitespaces removed: iamayush\n"
     ]
    }
   ],
   "source": [
    "def remove_whitespace(input_string):\n",
    "    return input_string.replace(\" \", \"\")\n",
    "\n",
    "# Example usage:\n",
    "input_string = \" i am ayush \"\n",
    "result = remove_whitespace(input_string)\n",
    "print(\"String with whitespaces removed:\", result)\n"
   ]
  },
  {
   "cell_type": "code",
   "execution_count": null,
   "id": "99e897c2-cc99-47c8-932d-b0f57a10ec44",
   "metadata": {},
   "outputs": [],
   "source": [
    "#Find the length of a string without using the `len()` function."
   ]
  },
  {
   "cell_type": "code",
   "execution_count": 6,
   "id": "5e77f41e-4a6f-4fb6-8516-4e637368c0e8",
   "metadata": {},
   "outputs": [
    {
     "name": "stdout",
     "output_type": "stream",
     "text": [
      "Length of the string: 10\n"
     ]
    }
   ],
   "source": [
    "def find_string_length(input_string):\n",
    "    count = 0\n",
    "    while input_string:\n",
    "        input_string = input_string[:-1]  # Remove the last character\n",
    "        count += 1\n",
    "    return count\n",
    "\n",
    "# Example usage:\n",
    "input_string = \"i am ayush\"\n",
    "result = find_string_length(input_string)\n",
    "print(\"Length of the string:\", result)\n"
   ]
  },
  {
   "cell_type": "code",
   "execution_count": 7,
   "id": "9c3a364a-be86-4806-a87f-ee2f67e44cba",
   "metadata": {},
   "outputs": [],
   "source": [
    "#Check if a string contains a specific word."
   ]
  },
  {
   "cell_type": "code",
   "execution_count": 11,
   "id": "9f490873-5ba5-489e-a8a7-38cf009bfa02",
   "metadata": {},
   "outputs": [
    {
     "name": "stdout",
     "output_type": "stream",
     "text": [
      "The string contains 'test': True\n"
     ]
    }
   ],
   "source": [
    "def contains_word(input_string, target_word):\n",
    "    return target_word in input_string\n",
    "\n",
    "# Example usage:\n",
    "input_string = \"Hello, World! This is a test.\"\n",
    "target_word = \"test\"\n",
    "result = contains_word(input_string, target_word)\n",
    "print(f\"The string contains '{target_word}': {result}\")\n"
   ]
  },
  {
   "cell_type": "code",
   "execution_count": 12,
   "id": "4f21b1c8-10d9-4f01-bdee-ca723c2a84ca",
   "metadata": {},
   "outputs": [],
   "source": [
    "#Replace a word in a string with another word."
   ]
  },
  {
   "cell_type": "code",
   "execution_count": 13,
   "id": "bdaca80e-b07f-4384-84f8-43f16cee2cd2",
   "metadata": {},
   "outputs": [
    {
     "name": "stdout",
     "output_type": "stream",
     "text": [
      "Modified string: HI I AM AYUSH .\n"
     ]
    }
   ],
   "source": [
    "def replace_word(input_string, old_word, new_word):\n",
    "    return input_string.replace(old_word, new_word)\n",
    "\n",
    "# Example usage:\n",
    "input_string = \"HI I AM AYUSH .\"\n",
    "old_word = \"test\"\n",
    "new_word = \"example\"\n",
    "result = replace_word(input_string, old_word, new_word)\n",
    "print(\"Modified string:\", result)\n"
   ]
  },
  {
   "cell_type": "code",
   "execution_count": 1,
   "id": "b33b2f14-26b8-408d-933d-ad5cdbc11ef8",
   "metadata": {},
   "outputs": [],
   "source": [
    "#Count the occurrences of a word in a string."
   ]
  },
  {
   "cell_type": "code",
   "execution_count": 2,
   "id": "4fbc2570-3b16-4488-ad3a-5e398d523055",
   "metadata": {},
   "outputs": [
    {
     "name": "stdout",
     "output_type": "stream",
     "text": [
      "The word 'sample' appears 2 times in the string.\n"
     ]
    }
   ],
   "source": [
    "def count_occurrences(string, word):\n",
    "    # Split the string into words\n",
    "    words = string.split()\n",
    "\n",
    "    # Initialize a count variable to keep track of occurrences\n",
    "    count = 0\n",
    "\n",
    "    # Iterate through the words and check if each word matches the target word\n",
    "    for w in words:\n",
    "        if w == word:\n",
    "            count += 1\n",
    "\n",
    "    return count\n",
    "\n",
    "# Example usage\n",
    "input_string = \"This is a sample string. This string contains sample text.\"\n",
    "target_word = \"sample\"\n",
    "result = count_occurrences(input_string, target_word)\n",
    "print(f\"The word '{target_word}' appears {result} times in the string.\")\n"
   ]
  },
  {
   "cell_type": "code",
   "execution_count": 3,
   "id": "32f67486-0215-4efd-9eac-0a7badcdbeb1",
   "metadata": {},
   "outputs": [],
   "source": [
    "# Find the first occurrence of a word in a string."
   ]
  },
  {
   "cell_type": "code",
   "execution_count": 4,
   "id": "20e4ba09-78eb-4ce1-9bb1-d4dd10bab0d2",
   "metadata": {},
   "outputs": [
    {
     "name": "stdout",
     "output_type": "stream",
     "text": [
      "The word 'sample' appears 2 times in the string.\n"
     ]
    }
   ],
   "source": [
    "def count_occurrences(string, word):\n",
    "    # Split the string into words\n",
    "    words = string.split()\n",
    "\n",
    "    # Initialize a count variable to keep track of occurrences\n",
    "    count = 0\n",
    "\n",
    "    # Iterate through the words and check if each word matches the target word\n",
    "    for w in words:\n",
    "        if w == word:\n",
    "            count += 1\n",
    "\n",
    "    return count\n",
    "\n",
    "# Example usage\n",
    "input_string = \"This is a sample string. This string contains sample text.\"\n",
    "target_word = \"sample\"\n",
    "result = count_occurrences(input_string, target_word)\n",
    "print(f\"The word '{target_word}' appears {result} times in the string.\")\n"
   ]
  },
  {
   "cell_type": "code",
   "execution_count": 5,
   "id": "93b81afc-3f71-401f-9d05-ef72a2e0bb37",
   "metadata": {},
   "outputs": [],
   "source": [
    "# Find the last occurrence of a word in a string."
   ]
  },
  {
   "cell_type": "code",
   "execution_count": 6,
   "id": "bdb4fa3f-c5c9-4d73-b01f-e93704777228",
   "metadata": {},
   "outputs": [
    {
     "name": "stdout",
     "output_type": "stream",
     "text": [
      "The last occurrence of 'sample' is at word index 8.\n"
     ]
    }
   ],
   "source": [
    "def find_last_occurrence(string, word):\n",
    "    words = string.split()\n",
    "    \n",
    "    for i in range(len(words) - 1, -1, -1):\n",
    "        if words[i] == word:\n",
    "            return i\n",
    "    \n",
    "    return -1\n",
    "\n",
    "# Example usage\n",
    "input_string = \"This is a sample string. This string contains sample text.\"\n",
    "target_word = \"sample\"\n",
    "result = find_last_occurrence(input_string, target_word)\n",
    "\n",
    "if result != -1:\n",
    "    print(f\"The last occurrence of '{target_word}' is at word index {result}.\")\n",
    "else:\n",
    "    print(f\"'{target_word}' was not found in the string.\")\n"
   ]
  },
  {
   "cell_type": "code",
   "execution_count": 7,
   "id": "522fc4dd-bbbc-4ca5-b884-bb35018f09e6",
   "metadata": {},
   "outputs": [],
   "source": [
    "# Split a string into a list of words."
   ]
  },
  {
   "cell_type": "code",
   "execution_count": 8,
   "id": "0f054208-863a-4034-837b-0d58a993e2d3",
   "metadata": {},
   "outputs": [
    {
     "name": "stdout",
     "output_type": "stream",
     "text": [
      "['apple', 'banana', 'orange']\n"
     ]
    }
   ],
   "source": [
    "input_string = \"apple,banana,orange\"\n",
    "\n",
    "# Split the string into a list using a comma as the delimiter\n",
    "word_list = input_string.split(',')\n",
    "\n",
    "# Print the list of words\n",
    "print(word_list)\n"
   ]
  },
  {
   "cell_type": "code",
   "execution_count": 9,
   "id": "ebee3309-b1e4-485d-a6ad-ea09c94245a1",
   "metadata": {},
   "outputs": [],
   "source": [
    "# Join a list of words into a string."
   ]
  },
  {
   "cell_type": "code",
   "execution_count": 10,
   "id": "7358a293-e4fb-4965-b9dd-f8e65481820f",
   "metadata": {},
   "outputs": [
    {
     "name": "stdout",
     "output_type": "stream",
     "text": [
      "apple,banana,orange\n"
     ]
    }
   ],
   "source": [
    "word_list = ['apple', 'banana', 'orange']\n",
    "\n",
    "# Join the list of words into a single string with commas between them\n",
    "joined_string = ','.join(word_list)\n",
    "\n",
    "# Print the joined string\n",
    "print(joined_string)\n"
   ]
  },
  {
   "cell_type": "code",
   "execution_count": 12,
   "id": "c7da7f3e-589a-48ab-a2f6-23f8d22a3f42",
   "metadata": {},
   "outputs": [
    {
     "data": {
      "text/plain": [
       "' q-Convert a string where words are separated by spaces to one where words\\nare separated by underscores.'"
      ]
     },
     "execution_count": 12,
     "metadata": {},
     "output_type": "execute_result"
    }
   ],
   "source": [
    "''' q-Convert a string where words are separated by spaces to one where words\n",
    "are separated by underscores.'''"
   ]
  },
  {
   "cell_type": "code",
   "execution_count": 13,
   "id": "8c8bc86d-1355-4f2e-ad56-902e04514b82",
   "metadata": {},
   "outputs": [
    {
     "name": "stdout",
     "output_type": "stream",
     "text": [
      "This_is_a_sample_string_with_spaces\n"
     ]
    }
   ],
   "source": [
    "input_string = \"This is a sample string with spaces\"\n",
    "\n",
    "# Replace spaces with underscores\n",
    "underscored_string = input_string.replace(' ', '_')\n",
    "\n",
    "# Print the modified string\n",
    "print(underscored_string)\n"
   ]
  },
  {
   "cell_type": "code",
   "execution_count": 14,
   "id": "6b4a30fa-abfd-4a19-ae02-279620f1491b",
   "metadata": {},
   "outputs": [],
   "source": [
    "# Check if a string starts with a specific word or phrase."
   ]
  },
  {
   "cell_type": "code",
   "execution_count": 15,
   "id": "3365507a-ed7b-4ee2-9aca-75bf7403d15d",
   "metadata": {},
   "outputs": [
    {
     "name": "stdout",
     "output_type": "stream",
     "text": [
      "The string starts with 'Hello'.\n"
     ]
    }
   ],
   "source": [
    "input_string = \"Hello, world!\"\n",
    "prefix = \"Hello\"\n",
    "\n",
    "# Check if the string starts with the specified prefix\n",
    "if input_string.startswith(prefix):\n",
    "    print(f\"The string starts with '{prefix}'.\")\n",
    "else:\n",
    "    print(f\"The string does not start with '{prefix}'.\")\n",
    "\n",
    "    "
   ]
  },
  {
   "cell_type": "code",
   "execution_count": 16,
   "id": "b102105f-67f4-48e2-bab1-67c44e6b7426",
   "metadata": {},
   "outputs": [],
   "source": [
    "# Check if a string ends with a specific word or phrase."
   ]
  },
  {
   "cell_type": "code",
   "execution_count": 17,
   "id": "e6c2f434-b9a4-41b6-af11-943ed44bf09b",
   "metadata": {},
   "outputs": [
    {
     "name": "stdout",
     "output_type": "stream",
     "text": [
      "The string ends with 'world!'.\n"
     ]
    }
   ],
   "source": [
    "input_string = \"Hello, world!\"\n",
    "suffix = \"world!\"\n",
    "\n",
    "# Check if the string ends with the specified suffix\n",
    "if input_string.endswith(suffix):\n",
    "    print(f\"The string ends with '{suffix}'.\")\n",
    "else:\n",
    "    print(f\"The string does not end with '{suffix}'.\")\n"
   ]
  },
  {
   "cell_type": "code",
   "execution_count": 18,
   "id": "bc985e8f-65b8-406b-ae52-ef49f46439df",
   "metadata": {},
   "outputs": [],
   "source": [
    "# Convert a string to title case (e.g., \"hello world\" to \"Hello World\")."
   ]
  },
  {
   "cell_type": "code",
   "execution_count": 19,
   "id": "2193c4b9-edf9-430a-a154-4e04bc25e435",
   "metadata": {},
   "outputs": [
    {
     "name": "stdout",
     "output_type": "stream",
     "text": [
      "Hello World\n"
     ]
    }
   ],
   "source": [
    "input_string = \"hello world\"\n",
    "\n",
    "# Convert the string to title case\n",
    "title_case_string = input_string.title()\n",
    "\n",
    "# Print the title case string\n",
    "print(title_case_string)\n"
   ]
  },
  {
   "cell_type": "code",
   "execution_count": 20,
   "id": "8edf9c35-2149-4ff7-ab12-00a1e306fef2",
   "metadata": {},
   "outputs": [],
   "source": [
    "# Find the longest word in a string."
   ]
  },
  {
   "cell_type": "code",
   "execution_count": 21,
   "id": "b99fe1d0-c7cc-4146-8743-e8206da67064",
   "metadata": {},
   "outputs": [
    {
     "name": "stdout",
     "output_type": "stream",
     "text": [
      "The longest word in the string is 'hippopotamus' with a length of 12.\n"
     ]
    }
   ],
   "source": [
    "def find_longest_word(input_string):\n",
    "    # Split the string into words\n",
    "    words = input_string.split()\n",
    "\n",
    "    # Initialize variables to store the longest word and its length\n",
    "    longest_word = \"\"\n",
    "    max_length = 0\n",
    "\n",
    "    # Iterate through the words to find the longest one\n",
    "    for word in words:\n",
    "        # Remove punctuation (optional)\n",
    "        word = word.strip('.,!?()[]{}\"\\'')\n",
    "        \n",
    "        if len(word) > max_length:\n",
    "            max_length = len(word)\n",
    "            longest_word = word\n",
    "\n",
    "    return longest_word\n",
    "\n",
    "# Example usage\n",
    "input_string = \"This is a sample string with some long words like 'elephant' and 'hippopotamus'.\"\n",
    "longest_word = find_longest_word(input_string)\n",
    "print(f\"The longest word in the string is '{longest_word}' with a length of {len(longest_word)}.\")\n"
   ]
  },
  {
   "cell_type": "code",
   "execution_count": 22,
   "id": "479a82ad-ad5f-4252-96c3-28d41cf859e7",
   "metadata": {},
   "outputs": [],
   "source": [
    "#Find the shortest word in a string."
   ]
  },
  {
   "cell_type": "code",
   "execution_count": 23,
   "id": "37e99e4f-e941-4b59-a269-8fb4288b3639",
   "metadata": {},
   "outputs": [
    {
     "name": "stdout",
     "output_type": "stream",
     "text": [
      "The shortest word in the string is 'a' with a length of 1.\n"
     ]
    }
   ],
   "source": [
    "def find_shortest_word(input_string):\n",
    "    # Split the string into words\n",
    "    words = input_string.split()\n",
    "\n",
    "    # Initialize variables to store the shortest word and its length\n",
    "    shortest_word = None\n",
    "    min_length = float('inf')  # Set an initial minimum length to positive infinity\n",
    "\n",
    "    # Iterate through the words to find the shortest one\n",
    "    for word in words:\n",
    "        # Remove punctuation (optional)\n",
    "        word = word.strip('.,!?()[]{}\"\\'')\n",
    "        \n",
    "        if len(word) < min_length:\n",
    "            min_length = len(word)\n",
    "            shortest_word = word\n",
    "\n",
    "    return shortest_word\n",
    "\n",
    "# Example usage\n",
    "input_string = \"This is a sample string with some short words like 'cat' and 'dog'.\"\n",
    "shortest_word = find_shortest_word(input_string)\n",
    "if shortest_word is not None:\n",
    "    print(f\"The shortest word in the string is '{shortest_word}' with a length of {len(shortest_word)}.\")\n",
    "else:\n",
    "    print(\"No words found in the string.\")\n"
   ]
  },
  {
   "cell_type": "code",
   "execution_count": 24,
   "id": "19472d10-c1f1-4f9e-9001-787a79c2f78f",
   "metadata": {},
   "outputs": [],
   "source": [
    "# Reverse the order of words in a string."
   ]
  },
  {
   "cell_type": "code",
   "execution_count": 25,
   "id": "6678832e-1f8e-4503-ac1f-b0c15139e03e",
   "metadata": {},
   "outputs": [
    {
     "name": "stdout",
     "output_type": "stream",
     "text": [
      "string. sample a is This\n"
     ]
    }
   ],
   "source": [
    "def reverse_words(input_string):\n",
    "    # Split the string into words\n",
    "    words = input_string.split()\n",
    "\n",
    "    # Reverse the list of words\n",
    "    reversed_words = words[::-1]\n",
    "\n",
    "    # Join the reversed words into a string\n",
    "    reversed_string = ' '.join(reversed_words)\n",
    "\n",
    "    return reversed_string\n",
    "\n",
    "# Example usage\n",
    "input_string = \"This is a sample string.\"\n",
    "reversed_string = reverse_words(input_string)\n",
    "print(reversed_string)\n"
   ]
  },
  {
   "cell_type": "code",
   "execution_count": 26,
   "id": "6bec2285-c992-40ad-ac42-be185d5e7a70",
   "metadata": {},
   "outputs": [],
   "source": [
    "# 23. Check if a string is alphanumeric."
   ]
  },
  {
   "cell_type": "code",
   "execution_count": 27,
   "id": "f192ce1e-b5b8-41a7-817f-74737cf3bb2e",
   "metadata": {},
   "outputs": [
    {
     "name": "stdout",
     "output_type": "stream",
     "text": [
      "The string 'Hello123' is alphanumeric.\n"
     ]
    }
   ],
   "source": [
    "input_string = \"Hello123\"\n",
    "\n",
    "# Check if the string is alphanumeric\n",
    "if input_string.isalnum():\n",
    "    print(f\"The string '{input_string}' is alphanumeric.\")\n",
    "else:\n",
    "    print(f\"The string '{input_string}' is not alphanumeric.\")\n"
   ]
  },
  {
   "cell_type": "code",
   "execution_count": 28,
   "id": "e50bbf6a-de60-4569-9ebb-a48eca8dd604",
   "metadata": {},
   "outputs": [],
   "source": [
    "# 24. Extract all digits from a string."
   ]
  },
  {
   "cell_type": "code",
   "execution_count": 32,
   "id": "1137e9a2-d557-4c0c-ad23-5a6736b5c99a",
   "metadata": {},
   "outputs": [
    {
     "name": "stdout",
     "output_type": "stream",
     "text": [
      "9999\n"
     ]
    }
   ],
   "source": [
    "import re\n",
    "\n",
    "input_string = \"The price of the product is rs 99.99.\"\n",
    "\n",
    "# Use regular expression to find all digits\n",
    "digits = re.findall(r'\\d+', input_string)\n",
    "\n",
    "# Convert the list of digits to a single string\n",
    "extracted_digits = ''.join(digits)\n",
    "\n",
    "# Print the extracted digits\n",
    "print(extracted_digits)\n"
   ]
  },
  {
   "cell_type": "code",
   "execution_count": 33,
   "id": "72057d3f-0793-4316-aafb-6041fcaa3323",
   "metadata": {},
   "outputs": [],
   "source": [
    "# Extract all alphabets from a string."
   ]
  },
  {
   "cell_type": "code",
   "execution_count": 34,
   "id": "2b4502ac-17d0-4a37-9717-3192492923b7",
   "metadata": {},
   "outputs": [
    {
     "name": "stdout",
     "output_type": "stream",
     "text": [
      "Thecatsareinthegarden\n"
     ]
    }
   ],
   "source": [
    "import re\n",
    "\n",
    "input_string = \"The 42 cats are in the garden.\"\n",
    "\n",
    "# Use regular expression to find all alphabetic characters\n",
    "alphabets = re.findall(r'[a-zA-Z]+', input_string)\n",
    "\n",
    "# Convert the list of alphabets to a single string\n",
    "extracted_alphabets = ''.join(alphabets)\n",
    "\n",
    "# Print the extracted alphabets\n",
    "print(extracted_alphabets)\n"
   ]
  },
  {
   "cell_type": "code",
   "execution_count": 35,
   "id": "ae253d2f-8609-4cd9-99cf-9e0bb5829a46",
   "metadata": {},
   "outputs": [],
   "source": [
    "# Count the number of uppercase letters in a string."
   ]
  },
  {
   "cell_type": "code",
   "execution_count": 37,
   "id": "9d62642c-8ecb-4650-a72f-c820067597b9",
   "metadata": {},
   "outputs": [
    {
     "name": "stdout",
     "output_type": "stream",
     "text": [
      "The number of uppercase letters in the string is 2.\n"
     ]
    }
   ],
   "source": [
    "input_string = \"I Am  ayush \"\n",
    "\n",
    "# Use a list comprehension to create a list of booleans indicating whether each character is uppercase\n",
    "is_uppercase = [char.isupper() for char in input_string]\n",
    "\n",
    "# Use the sum function to count the True values in the list\n",
    "uppercase_count = sum(is_uppercase)\n",
    "\n",
    "# Print the count of uppercase letters\n",
    "print(f\"The number of uppercase letters in the string is {uppercase_count}.\")\n"
   ]
  },
  {
   "cell_type": "code",
   "execution_count": 38,
   "id": "33bdaa65-2ab8-4d2e-ab75-9006e28dfb4a",
   "metadata": {},
   "outputs": [],
   "source": [
    "# Count the number of lowercase letters in a string."
   ]
  },
  {
   "cell_type": "code",
   "execution_count": 39,
   "id": "47c47578-a31b-4fc6-9925-f26c7eb3076e",
   "metadata": {},
   "outputs": [
    {
     "name": "stdout",
     "output_type": "stream",
     "text": [
      "The number of lowercase letters in the string is 8.\n"
     ]
    }
   ],
   "source": [
    "input_string = \"Hello World!\"\n",
    "\n",
    "# Use a list comprehension to create a list of booleans indicating whether each character is lowercase\n",
    "is_lowercase = [char.islower() for char in input_string]\n",
    "\n",
    "# Use the sum function to count the True values in the list\n",
    "lowercase_count = sum(is_lowercase)\n",
    "\n",
    "# Print the count of lowercase letters\n",
    "print(f\"The number of lowercase letters in the string is {lowercase_count}.\")\n"
   ]
  },
  {
   "cell_type": "code",
   "execution_count": 40,
   "id": "fa55af91-2248-4a8b-b47f-6a52c3e30b80",
   "metadata": {},
   "outputs": [],
   "source": [
    "# Swap the case of each character in a string."
   ]
  },
  {
   "cell_type": "code",
   "execution_count": 41,
   "id": "6633b446-8774-45fc-98dc-2a97f6d4349a",
   "metadata": {},
   "outputs": [
    {
     "name": "stdout",
     "output_type": "stream",
     "text": [
      "hi AYUSH diXIT!\n"
     ]
    }
   ],
   "source": [
    "input_string = \"HI ayush DIxit!\"\n",
    "\n",
    "# Swap the case of each character in the string\n",
    "swapped_string = input_string.swapcase()\n",
    "\n",
    "# Print the swapped string\n",
    "print(swapped_string)\n"
   ]
  },
  {
   "cell_type": "code",
   "execution_count": 43,
   "id": "9c02e11e-8486-467a-b94a-f406fc02e0f6",
   "metadata": {},
   "outputs": [],
   "source": [
    "# Remove a specific word from a string."
   ]
  },
  {
   "cell_type": "code",
   "execution_count": 44,
   "id": "461c8b0e-04d5-4350-af46-8edb2aed9253",
   "metadata": {},
   "outputs": [
    {
     "name": "stdout",
     "output_type": "stream",
     "text": [
      "This is a  sentence with the word '' in it.\n"
     ]
    }
   ],
   "source": [
    "input_string = \"This is a sample sentence with the word 'sample' in it.\"\n",
    "word_to_remove = \"sample\"\n",
    "\n",
    "# Remove the specific word from the string\n",
    "modified_string = input_string.replace(word_to_remove, '')\n",
    "\n",
    "# Print the modified string\n",
    "print(modified_string)\n"
   ]
  },
  {
   "cell_type": "code",
   "execution_count": 45,
   "id": "b705ddd2-0a84-43c0-93d0-75271c32a7fa",
   "metadata": {},
   "outputs": [],
   "source": [
    "# Check if a string is a valid email address."
   ]
  },
  {
   "cell_type": "code",
   "execution_count": 46,
   "id": "d8eaaefd-6c0d-479e-bab9-a813e0fb444f",
   "metadata": {},
   "outputs": [
    {
     "name": "stdout",
     "output_type": "stream",
     "text": [
      "example@email.com is a valid email address.\n"
     ]
    }
   ],
   "source": [
    "import re\n",
    "\n",
    "def is_valid_email(email):\n",
    "    # Define a regular expression pattern for a basic email format\n",
    "    pattern = r'^[a-zA-Z0-9._%+-]+@[a-zA-Z0-9.-]+\\.[a-zA-Z]{2,}$'\n",
    "    \n",
    "    # Use re.match() to check if the email matches the pattern\n",
    "    if re.match(pattern, email):\n",
    "        return True\n",
    "    else:\n",
    "        return False\n",
    "\n",
    "# Example usage\n",
    "email = \"example@email.com\"\n",
    "\n",
    "if is_valid_email(email):\n",
    "    print(f\"{email} is a valid email address.\")\n",
    "else:\n",
    "    print(f\"{email} is not a valid email address.\")\n"
   ]
  },
  {
   "cell_type": "code",
   "execution_count": 47,
   "id": "e4b7c089-2629-411a-8a87-fb838d07e7e2",
   "metadata": {},
   "outputs": [],
   "source": [
    "# Extract the username from an email address string."
   ]
  },
  {
   "cell_type": "code",
   "execution_count": 48,
   "id": "5a5869ea-c4d1-4d40-b3ba-94dad9ea0128",
   "metadata": {},
   "outputs": [
    {
     "name": "stdout",
     "output_type": "stream",
     "text": [
      "example\n"
     ]
    }
   ],
   "source": [
    "import re\n",
    "\n",
    "email = \"example@email.com\"\n",
    "\n",
    "# Define a regular expression pattern to match the username part of an email address\n",
    "pattern = r'^([a-zA-Z0-9._%+-]+)@'\n",
    "\n",
    "# Use re.search() to find the username using the pattern\n",
    "match = re.search(pattern, email)\n",
    "\n",
    "if match:\n",
    "    username = match.group(1)\n",
    "    print(username)\n",
    "else:\n",
    "    print(\"No username found in the email address.\")\n"
   ]
  },
  {
   "cell_type": "code",
   "execution_count": 49,
   "id": "1f363006-0706-46f6-a15a-6e72df98573b",
   "metadata": {},
   "outputs": [],
   "source": [
    "# Extract the domain name from an email address string."
   ]
  },
  {
   "cell_type": "code",
   "execution_count": 50,
   "id": "59d76d4c-4611-4965-9b52-856be0db9bbf",
   "metadata": {},
   "outputs": [
    {
     "name": "stdout",
     "output_type": "stream",
     "text": [
      "email.com\n"
     ]
    }
   ],
   "source": [
    "email = \"example@email.com\"\n",
    "\n",
    "# Split the email address at the '@' symbol and take the second part\n",
    "domain = email.split('@')[1]\n",
    "\n",
    "# Print the extracted domain name\n",
    "print(domain)\n"
   ]
  },
  {
   "cell_type": "code",
   "execution_count": 51,
   "id": "80eb1489-4575-4fee-9441-b765e3082c45",
   "metadata": {},
   "outputs": [],
   "source": [
    "# 33. Replace multiple spaces in a string with a single space."
   ]
  },
  {
   "cell_type": "code",
   "execution_count": 52,
   "id": "84b52aa8-848b-45b6-b195-cf5bb74673f7",
   "metadata": {},
   "outputs": [
    {
     "name": "stdout",
     "output_type": "stream",
     "text": [
      "This is a string with multiple spaces.\n"
     ]
    }
   ],
   "source": [
    "import re\n",
    "\n",
    "input_string = \"This    is    a    string   with   multiple    spaces.\"\n",
    "\n",
    "# Use regular expression to replace multiple spaces with a single space\n",
    "modified_string = re.sub(r'\\s+', ' ', input_string)\n",
    "\n",
    "# Print the modified string\n",
    "print(modified_string)\n"
   ]
  },
  {
   "cell_type": "code",
   "execution_count": null,
   "id": "5226d6e2-1c11-4ff7-a6b6-e660fde51c10",
   "metadata": {},
   "outputs": [],
   "source": [
    "# Check if a string is a valid URL."
   ]
  },
  {
   "cell_type": "code",
   "execution_count": 53,
   "id": "3f9bd813-d7a8-4799-9bbd-e59a9bae7315",
   "metadata": {},
   "outputs": [
    {
     "name": "stdout",
     "output_type": "stream",
     "text": [
      "https://www.example.com is a valid URL.\n"
     ]
    }
   ],
   "source": [
    "from urllib.parse import urlparse\n",
    "\n",
    "def is_valid_url(url):\n",
    "    try:\n",
    "        result = urlparse(url)\n",
    "        return all([result.scheme, result.netloc])\n",
    "    except ValueError:\n",
    "        return False\n",
    "\n",
    "# Example usage\n",
    "url = \"https://www.example.com\"\n",
    "\n",
    "if is_valid_url(url):\n",
    "    print(f\"{url} is a valid URL.\")\n",
    "else:\n",
    "    print(f\"{url} is not a valid URL.\")\n"
   ]
  },
  {
   "cell_type": "code",
   "execution_count": 54,
   "id": "d637db45-f6eb-4451-b591-001f9552db4c",
   "metadata": {},
   "outputs": [],
   "source": [
    "# Extract the protocol (http or https) from a URL string."
   ]
  },
  {
   "cell_type": "code",
   "execution_count": 55,
   "id": "49896629-86e7-4e76-be99-321748105a4f",
   "metadata": {},
   "outputs": [
    {
     "name": "stdout",
     "output_type": "stream",
     "text": [
      "The protocol of the URL is https://.\n"
     ]
    }
   ],
   "source": [
    "import re\n",
    "\n",
    "def extract_protocol(url):\n",
    "    match = re.match(r'^https?://', url)\n",
    "    if match:\n",
    "        return match.group()\n",
    "\n",
    "# Example usage\n",
    "url = \"https://www.example.com\"\n",
    "\n",
    "protocol = extract_protocol(url)\n",
    "\n",
    "if protocol:\n",
    "    print(f\"The protocol of the URL is {protocol}.\")\n",
    "else:\n",
    "    print(\"No valid protocol found in the URL.\")\n"
   ]
  },
  {
   "cell_type": "code",
   "execution_count": 56,
   "id": "2c0a013f-df3c-48d1-8c54-3316c5607d79",
   "metadata": {},
   "outputs": [],
   "source": [
    "# Find the frequency of each character in a string."
   ]
  },
  {
   "cell_type": "code",
   "execution_count": 57,
   "id": "9d9ae664-6fc4-4c93-8cb3-5955878aebcb",
   "metadata": {},
   "outputs": [
    {
     "name": "stdout",
     "output_type": "stream",
     "text": [
      "'H': 1\n",
      "'e': 1\n",
      "'l': 3\n",
      "'o': 2\n",
      "'w': 1\n",
      "'r': 1\n",
      "'d': 1\n"
     ]
    }
   ],
   "source": [
    "input_string = \"Hello, world!\"\n",
    "\n",
    "# Create an empty dictionary to store character frequencies\n",
    "char_frequency = {}\n",
    "\n",
    "# Iterate through the characters in the string\n",
    "for char in input_string:\n",
    "    # Check if the character is a letter or digit (you can customize this condition)\n",
    "    if char.isalnum():\n",
    "        # Use the character as the key and increment its count in the dictionary\n",
    "        char_frequency[char] = char_frequency.get(char, 0) + 1\n",
    "\n",
    "# Print the character frequencies\n",
    "for char, frequency in char_frequency.items():\n",
    "    print(f\"'{char}': {frequency}\")\n"
   ]
  },
  {
   "cell_type": "code",
   "execution_count": 58,
   "id": "dbd22963-2ad3-4836-9221-120fedbb2900",
   "metadata": {},
   "outputs": [],
   "source": [
    "# 37. Remove all punctuation from a string."
   ]
  },
  {
   "cell_type": "code",
   "execution_count": 59,
   "id": "4f850b85-1171-4158-a2b3-60ff2d2ee397",
   "metadata": {},
   "outputs": [
    {
     "name": "stdout",
     "output_type": "stream",
     "text": [
      "Hello World This is a sample string with punctuation\n"
     ]
    }
   ],
   "source": [
    "import string\n",
    "\n",
    "def remove_punctuation(input_string):\n",
    "    # Create a translation table to remove punctuation\n",
    "    translator = str.maketrans('', '', string.punctuation)\n",
    "    \n",
    "    # Use translate() to remove punctuation\n",
    "    cleaned_string = input_string.translate(translator)\n",
    "    \n",
    "    return cleaned_string\n",
    "\n",
    "# Example usage\n",
    "input_string = \"Hello, World! This is a sample string with punctuation.\"\n",
    "\n",
    "cleaned_string = remove_punctuation(input_string)\n",
    "print(cleaned_string)\n"
   ]
  },
  {
   "cell_type": "code",
   "execution_count": 60,
   "id": "306b0935-4a8d-4e1d-baee-2a1bbb9291c8",
   "metadata": {},
   "outputs": [],
   "source": [
    "# 38. Check if a string contains only digits."
   ]
  },
  {
   "cell_type": "code",
   "execution_count": 62,
   "id": "62a0e093-6773-4460-bd1f-0b432dc3dc12",
   "metadata": {},
   "outputs": [
    {
     "name": "stdout",
     "output_type": "stream",
     "text": [
      "The string contains non-digit characters.\n"
     ]
    }
   ],
   "source": [
    "import re\n",
    "\n",
    "input_string = \"12345678ad\"\n",
    "\n",
    "# Use regular expression to check if the string contains only digits\n",
    "if re.match(r'^\\d+$', input_string):\n",
    "    print(\"The string contains only digits.\")\n",
    "else:\n",
    "    print(\"The string contains non-digit characters.\")\n"
   ]
  },
  {
   "cell_type": "code",
   "execution_count": 63,
   "id": "b78582f5-4f2e-4a00-bd94-3bf5c8e55722",
   "metadata": {},
   "outputs": [],
   "source": [
    "# Check if a string contains only alphabets."
   ]
  },
  {
   "cell_type": "code",
   "execution_count": 64,
   "id": "4f3681ec-d62a-4a67-8420-d266471ce13e",
   "metadata": {},
   "outputs": [
    {
     "name": "stdout",
     "output_type": "stream",
     "text": [
      "The string contains only alphabetic characters.\n"
     ]
    }
   ],
   "source": [
    "import re\n",
    "\n",
    "input_string = \"abcdefg\"\n",
    "\n",
    "# Use regular expression to check if the string contains only alphabetic characters\n",
    "if re.match(r'^[a-zA-Z]+$', input_string):\n",
    "    print(\"The string contains only alphabetic characters.\")\n",
    "else:\n",
    "    print(\"The string contains non-alphabetic characters.\")\n"
   ]
  },
  {
   "cell_type": "code",
   "execution_count": 65,
   "id": "041bff5b-6adf-4f23-a5c8-780268330dcc",
   "metadata": {},
   "outputs": [],
   "source": [
    "# Convert a string to a list of characters."
   ]
  },
  {
   "cell_type": "code",
   "execution_count": 66,
   "id": "5bc8f045-1694-451f-8cdb-904709719006",
   "metadata": {},
   "outputs": [
    {
     "name": "stdout",
     "output_type": "stream",
     "text": [
      "['H', 'e', 'l', 'l', 'o', ',', ' ', 'W', 'o', 'r', 'l', 'd', '!']\n"
     ]
    }
   ],
   "source": [
    "input_string = \"Hello, World!\"\n",
    "\n",
    "# Convert the string to a list of characters\n",
    "char_list = [char for char in input_string]\n",
    "\n",
    "# Print the list of characters\n",
    "print(char_list)\n"
   ]
  },
  {
   "cell_type": "code",
   "execution_count": 67,
   "id": "0c08b2d4-6632-443c-9cf8-70eda187aadb",
   "metadata": {},
   "outputs": [],
   "source": [
    "# Check if two strings are anagrams."
   ]
  },
  {
   "cell_type": "code",
   "execution_count": 69,
   "id": "97097bd8-403a-4f97-a07b-64b69e0c522f",
   "metadata": {},
   "outputs": [
    {
     "name": "stdout",
     "output_type": "stream",
     "text": [
      "listen and silent are anagrams.\n"
     ]
    }
   ],
   "source": [
    "def are_anagrams(str1, str2):\n",
    "    # Remove spaces and convert both strings to lowercase for accurate comparison\n",
    "    str1 = str1.replace(\" \", \"\").lower()\n",
    "    str2 = str2.replace(\" \", \"\").lower()\n",
    "\n",
    "    # Check if the sorted characters in both strings are the same\n",
    "    return sorted(str1) == sorted(str2)\n",
    "\n",
    "# Example usage\n",
    "string1 = \"listen\"\n",
    "string2 = \"silent\"\n",
    "\n",
    "if are_anagrams(string1, string2):\n",
    "    print(f\"{string1} and {string2} are anagrams.\")\n",
    "else:\n",
    "    print(f\"{string1} and {string2} are not anagrams.\")\n"
   ]
  },
  {
   "cell_type": "code",
   "execution_count": 70,
   "id": "67a93255-35a4-49f9-96b2-40afc6b71e24",
   "metadata": {},
   "outputs": [],
   "source": [
    "# 42. Encode a string using a Caesar cipher."
   ]
  },
  {
   "cell_type": "code",
   "execution_count": 71,
   "id": "6c5053f6-7e1e-4a2c-8e6b-20c6266728cd",
   "metadata": {},
   "outputs": [
    {
     "name": "stdout",
     "output_type": "stream",
     "text": [
      "Original:  Hello, World!\n",
      "Encoded:    Khoor, Zruog!\n"
     ]
    }
   ],
   "source": [
    "def caesar_cipher(text, shift):\n",
    "    encrypted_text = \"\"\n",
    "\n",
    "    for char in text:\n",
    "        if char.isalpha():\n",
    "            # Determine whether the character is uppercase or lowercase\n",
    "            is_upper = char.isupper()\n",
    "            char = char.lower()\n",
    "            # Shift the character\n",
    "            shifted_char = chr(((ord(char) - ord('a') + shift) % 26) + ord('a'))\n",
    "            # Convert back to uppercase if it was originally uppercase\n",
    "            if is_upper:\n",
    "                shifted_char = shifted_char.upper()\n",
    "            encrypted_text += shifted_char\n",
    "        else:\n",
    "            # Keep non-alphabetic characters unchanged\n",
    "            encrypted_text += char\n",
    "\n",
    "    return encrypted_text\n",
    "\n",
    "# Example usage\n",
    "plaintext = \"Hello, World!\"\n",
    "shift_amount = 3\n",
    "\n",
    "encrypted_text = caesar_cipher(plaintext, shift_amount)\n",
    "print(\"Original: \", plaintext)\n",
    "print(\"Encoded:   \", encrypted_text)\n"
   ]
  },
  {
   "cell_type": "code",
   "execution_count": 72,
   "id": "52c2407f-6ac4-4e89-bd26-41b5b7ab1937",
   "metadata": {},
   "outputs": [],
   "source": [
    "# 43. Decode a Caesar cipher encoded string."
   ]
  },
  {
   "cell_type": "code",
   "execution_count": 73,
   "id": "7ffccc81-7a6a-4e6a-8b0c-625f92bb681d",
   "metadata": {},
   "outputs": [
    {
     "name": "stdout",
     "output_type": "stream",
     "text": [
      "Encoded:    Khoor, Zruog!\n",
      "Decoded:    Hello, World!\n"
     ]
    }
   ],
   "source": [
    "def caesar_decipher(encrypted_text, shift):\n",
    "    decrypted_text = \"\"\n",
    "\n",
    "    for char in encrypted_text:\n",
    "        if char.isalpha():\n",
    "            # Determine whether the character is uppercase or lowercase\n",
    "            is_upper = char.isupper()\n",
    "            char = char.lower()\n",
    "            # Reverse the shift for decryption\n",
    "            shifted_char = chr(((ord(char) - ord('a') - shift) % 26) + ord('a'))\n",
    "            # Convert back to uppercase if it was originally uppercase\n",
    "            if is_upper:\n",
    "                shifted_char = shifted_char.upper()\n",
    "            decrypted_text += shifted_char\n",
    "        else:\n",
    "            # Keep non-alphabetic characters unchanged\n",
    "            decrypted_text += char\n",
    "\n",
    "    return decrypted_text\n",
    "\n",
    "# Example usage\n",
    "encrypted_text = \"Khoor, Zruog!\"\n",
    "shift_amount = 3\n",
    "\n",
    "decrypted_text = caesar_decipher(encrypted_text, shift_amount)\n",
    "print(\"Encoded:   \", encrypted_text)\n",
    "print(\"Decoded:   \", decrypted_text)\n"
   ]
  },
  {
   "cell_type": "code",
   "execution_count": 74,
   "id": "491ea8cb-2792-49ad-8e72-5b52a376e57c",
   "metadata": {},
   "outputs": [],
   "source": [
    "# 44. Find the most frequent word in a string."
   ]
  },
  {
   "cell_type": "code",
   "execution_count": 75,
   "id": "57162bfb-1b8f-4055-8a76-b0bdf155aa31",
   "metadata": {},
   "outputs": [
    {
     "name": "stdout",
     "output_type": "stream",
     "text": [
      "The most frequent word is 'this'\n"
     ]
    }
   ],
   "source": [
    "def most_frequent_word(input_string):\n",
    "    # Tokenize the string into words\n",
    "    words = input_string.split()\n",
    "\n",
    "    # Create a dictionary to store word frequencies\n",
    "    word_freq = {}\n",
    "\n",
    "    # Iterate through the words and count their frequencies\n",
    "    for word in words:\n",
    "        # Remove punctuation and convert to lowercase for accurate counting\n",
    "        word = word.strip('.,!?()[]{}\"\\'').lower()\n",
    "        word_freq[word] = word_freq.get(word, 0) + 1\n",
    "\n",
    "    # Find the word with the highest frequency\n",
    "    most_common_word = max(word_freq, key=word_freq.get)\n",
    "\n",
    "    return most_common_word\n",
    "\n",
    "# Example usage\n",
    "input_string = \"This is a sample string. This string contains sample words, and one word is repeated more often.\"\n",
    "\n",
    "most_common_word = most_frequent_word(input_string)\n",
    "print(f\"The most frequent word is '{most_common_word}'\")\n"
   ]
  },
  {
   "cell_type": "code",
   "execution_count": 76,
   "id": "1f49a5c2-bcb9-4f89-9989-e2d15ca98356",
   "metadata": {},
   "outputs": [],
   "source": [
    "# Find all unique words in a string."
   ]
  },
  {
   "cell_type": "code",
   "execution_count": 77,
   "id": "1df3dc72-2cc2-4e1e-8a35-2958d467b5c8",
   "metadata": {},
   "outputs": [
    {
     "name": "stdout",
     "output_type": "stream",
     "text": [
      "Unique words in the string:\n",
      "sample\n",
      "words\n",
      "some\n",
      "a\n",
      "is\n",
      "are\n",
      "and\n",
      "repeated\n",
      "contains\n",
      "string\n",
      "this\n"
     ]
    }
   ],
   "source": [
    "def unique_words(input_string):\n",
    "    # Tokenize the string into words\n",
    "    words = input_string.split()\n",
    "\n",
    "    # Create a set to store unique words\n",
    "    unique_word_set = set()\n",
    "\n",
    "    # Iterate through the words and add them to the set\n",
    "    for word in words:\n",
    "        # Remove punctuation and convert to lowercase for accurate counting\n",
    "        word = word.strip('.,!?()[]{}\"\\'').lower()\n",
    "        unique_word_set.add(word)\n",
    "\n",
    "    return unique_word_set\n",
    "\n",
    "# Example usage\n",
    "input_string = \"This is a sample string. This string contains sample words, and some words are repeated.\"\n",
    "\n",
    "unique_words_set = unique_words(input_string)\n",
    "print(\"Unique words in the string:\")\n",
    "for word in unique_words_set:\n",
    "    print(word)\n"
   ]
  },
  {
   "cell_type": "code",
   "execution_count": 78,
   "id": "fd4965a9-355a-4110-ae14-d001838ad21a",
   "metadata": {},
   "outputs": [],
   "source": [
    "# Count the number of syllables in a string."
   ]
  },
  {
   "cell_type": "code",
   "execution_count": 81,
   "id": "872e064d-06c4-4326-915b-2ebfd0285fda",
   "metadata": {},
   "outputs": [
    {
     "name": "stdout",
     "output_type": "stream",
     "text": [
      "The word 'syllables' has 3 syllables.\n"
     ]
    }
   ],
   "source": [
    "def count_syllables(word):\n",
    "    # Convert the word to lowercase for consistent counting\n",
    "    word = word.lower()\n",
    "    \n",
    "    # Define a set of vowels\n",
    "    vowels = \"aeiouy\"\n",
    "    \n",
    "    # Initialize a count for syllables\n",
    "    syllable_count = 0\n",
    "    \n",
    "    # Initialize a flag to track consecutive vowels\n",
    "    prev_is_vowel = False\n",
    "    \n",
    "    # Iterate through each character in the word\n",
    "    for char in word:\n",
    "        if char in vowels:\n",
    "            # If the current character is a vowel and the previous character was not,\n",
    "            # it indicates the start of a new syllable\n",
    "            if not prev_is_vowel:\n",
    "                syllable_count += 1\n",
    "            prev_is_vowel = True\n",
    "        else:\n",
    "            prev_is_vowel = False\n",
    "    \n",
    "    # Handle special cases where the ending 'e' is silent\n",
    "    if word.endswith(\"e\"):\n",
    "        syllable_count -= 1\n",
    "    \n",
    "    # Handle single-letter words (e.g., 'a', 'I')\n",
    "    if len(word) == 1 and word != 'a':\n",
    "        syllable_count = 1\n",
    "    \n",
    "    # Ensure that there's at least one syllable\n",
    "    syllable_count = max(syllable_count, 1)\n",
    "    \n",
    "    return syllable_count\n",
    "\n",
    "# Example usage\n",
    "word = \"syllables\"\n",
    "\n",
    "syllable_count = count_syllables(word)\n",
    "print(f\"The word '{word}' has {syllable_count} syllables.\")\n"
   ]
  },
  {
   "cell_type": "code",
   "execution_count": 82,
   "id": "f2b061f3-bb49-4b10-ad6b-aa6a4aaabd2e",
   "metadata": {},
   "outputs": [],
   "source": [
    "# Check if a string contains any special characters."
   ]
  },
  {
   "cell_type": "code",
   "execution_count": 83,
   "id": "49a43149-a33d-4f85-853c-1732a88ea7cb",
   "metadata": {},
   "outputs": [
    {
     "name": "stdout",
     "output_type": "stream",
     "text": [
      "The string contains special characters.\n"
     ]
    }
   ],
   "source": [
    "import re\n",
    "\n",
    "def contains_special_characters(input_string):\n",
    "    # Define a regular expression pattern to match special characters\n",
    "    pattern = r'[!@#$%^&*()_+{}\\[\\]:;\"\\'<>,.?/\\|\\\\~`]'\n",
    "    \n",
    "    # Use re.search() to check if the pattern is found in the string\n",
    "    if re.search(pattern, input_string):\n",
    "        return True\n",
    "    else:\n",
    "        return False\n",
    "\n",
    "# Example usage\n",
    "input_string = \"Hello, World!\"\n",
    "\n",
    "if contains_special_characters(input_string):\n",
    "    print(\"The string contains special characters.\")\n",
    "else:\n",
    "    print(\"The string does not contain special characters.\")\n"
   ]
  },
  {
   "cell_type": "code",
   "execution_count": 84,
   "id": "8ecfa292-bb08-4397-91ac-ad78c7aa51cc",
   "metadata": {},
   "outputs": [],
   "source": [
    "# Remove the nth word from a string.\n"
   ]
  },
  {
   "cell_type": "code",
   "execution_count": 85,
   "id": "c6380ab1-6102-4e77-86a2-945da4c99bbe",
   "metadata": {},
   "outputs": [
    {
     "name": "stdout",
     "output_type": "stream",
     "text": [
      "Original:  This is a sample sentence.\n",
      "Modified:  This is sample sentence.\n"
     ]
    }
   ],
   "source": [
    "def remove_nth_word(input_string, n):\n",
    "    # Tokenize the string into words\n",
    "    words = input_string.split()\n",
    "\n",
    "    # Check if the specified index is valid\n",
    "    if 0 <= n < len(words):\n",
    "        # Remove the nth word\n",
    "        del words[n]\n",
    "\n",
    "        # Join the remaining words back into a string\n",
    "        modified_string = \" \".join(words)\n",
    "\n",
    "        return modified_string\n",
    "    else:\n",
    "        # Return the original string if the index is out of bounds\n",
    "        return input_string\n",
    "\n",
    "# Example usage\n",
    "input_string = \"This is a sample sentence.\"\n",
    "\n",
    "n = 2  # Index of the word to remove (0-based)\n",
    "\n",
    "modified_string = remove_nth_word(input_string, n)\n",
    "print(\"Original: \", input_string)\n",
    "print(\"Modified: \", modified_string)\n"
   ]
  },
  {
   "cell_type": "code",
   "execution_count": 87,
   "id": "e29491d7-d22a-4ca0-b15b-8456b14859bc",
   "metadata": {},
   "outputs": [],
   "source": [
    "# Insert a word at the nth position in a string."
   ]
  },
  {
   "cell_type": "code",
   "execution_count": 88,
   "id": "5040d9b5-6d41-476b-882a-71483a797c84",
   "metadata": {},
   "outputs": [
    {
     "name": "stdout",
     "output_type": "stream",
     "text": [
      "Original:  This is a sample sentence.\n",
      "Modified:  This is new a sample sentence.\n"
     ]
    }
   ],
   "source": [
    "def insert_word_at_nth_position(input_string, word_to_insert, n):\n",
    "    # Tokenize the string into words\n",
    "    words = input_string.split()\n",
    "\n",
    "    # Check if the specified index is valid\n",
    "    if 0 <= n <= len(words):\n",
    "        # Insert the new word at the nth position\n",
    "        words.insert(n, word_to_insert)\n",
    "\n",
    "        # Join the words back into a string\n",
    "        modified_string = \" \".join(words)\n",
    "\n",
    "        return modified_string\n",
    "    else:\n",
    "        # Return the original string if the index is out of bounds\n",
    "        return input_string\n",
    "\n",
    "# Example usage\n",
    "input_string = \"This is a sample sentence.\"\n",
    "\n",
    "word_to_insert = \"new\"\n",
    "n = 2  # Index at which to insert the word (0-based)\n",
    "\n",
    "modified_string = insert_word_at_nth_position(input_string, word_to_insert, n)\n",
    "print(\"Original: \", input_string)\n",
    "print(\"Modified: \", modified_string)\n"
   ]
  },
  {
   "cell_type": "code",
   "execution_count": 89,
   "id": "b75babcb-ce62-4d9e-aef6-192239c53df7",
   "metadata": {},
   "outputs": [],
   "source": [
    "# Convert a CSV string to a list of lists."
   ]
  },
  {
   "cell_type": "code",
   "execution_count": 90,
   "id": "7be47f0c-ba50-448e-9541-80fa744c7221",
   "metadata": {},
   "outputs": [
    {
     "name": "stdout",
     "output_type": "stream",
     "text": [
      "['1', 'John', 'Doe']\n",
      "['2', 'Jane', 'Smith']\n",
      "['3', 'Bob', 'Johnson']\n"
     ]
    }
   ],
   "source": [
    "csv_string = \"1,John,Doe\\n2,Jane,Smith\\n3,Bob,Johnson\"\n",
    "\n",
    "# Split the CSV string into a list of lines\n",
    "lines = csv_string.split('\\n')\n",
    "\n",
    "# Split each line into a list of values based on commas\n",
    "csv_list = [line.split(',') for line in lines]\n",
    "\n",
    "# Print the list of lists\n",
    "for row in csv_list:\n",
    "    print(row)\n"
   ]
  },
  {
   "cell_type": "code",
   "execution_count": 91,
   "id": "451ce9d3-db89-4518-b007-5e228757b176",
   "metadata": {},
   "outputs": [],
   "source": [
    "#now we will do  list based questions"
   ]
  },
  {
   "cell_type": "code",
   "execution_count": 1,
   "id": "0503299c-2e69-4bc8-a7ee-87c411758402",
   "metadata": {},
   "outputs": [],
   "source": [
    "# Create a list with integers from 1 to 10."
   ]
  },
  {
   "cell_type": "code",
   "execution_count": 2,
   "id": "590cda6e-2642-4f4f-b630-59c2cc70bf0d",
   "metadata": {},
   "outputs": [
    {
     "name": "stdout",
     "output_type": "stream",
     "text": [
      "[1, 2, 3, 4, 5, 6, 7, 8, 9, 10]\n"
     ]
    }
   ],
   "source": [
    "a=[1,2,3,4,5,6,7,8,9,10]\n",
    "print(a)"
   ]
  },
  {
   "cell_type": "code",
   "execution_count": 3,
   "id": "8170a37a-23d2-4f92-a1b3-a1705541533b",
   "metadata": {},
   "outputs": [],
   "source": [
    "# Find the length of a list without using the `len()` function."
   ]
  },
  {
   "cell_type": "code",
   "execution_count": 8,
   "id": "a92ea7f3-93bb-4398-8c89-4b49f6f075bb",
   "metadata": {},
   "outputs": [
    {
     "name": "stdout",
     "output_type": "stream",
     "text": [
      "The length of the list is: 10\n"
     ]
    }
   ],
   "source": [
    "my_list = [1, 2, 3, 4, 5, 6, 7, 8, 9, 10]\n",
    "\n",
    "# Initialize a variable to count the elements\n",
    "count = 0\n",
    "\n",
    "# Iterate through the list and increment the count for each element\n",
    "for _ in my_list:\n",
    "    count += 1\n",
    "\n",
    "# The count variable now holds the length of the list\n",
    "print(\"The length of the list is:\", count)\n"
   ]
  },
  {
   "cell_type": "code",
   "execution_count": 9,
   "id": "91615435-91dc-4fed-b266-ebc2e92bd07f",
   "metadata": {},
   "outputs": [],
   "source": [
    "# Append an element to the end of a list."
   ]
  },
  {
   "cell_type": "code",
   "execution_count": 10,
   "id": "ac3dc4ab-dd48-469d-9471-08d59dae6524",
   "metadata": {},
   "outputs": [
    {
     "name": "stdout",
     "output_type": "stream",
     "text": [
      "[1, 2, 3, 4, 5, 6]\n"
     ]
    }
   ],
   "source": [
    "my_list = [1, 2, 3, 4, 5]\n",
    "new_element = 6\n",
    "\n",
    "my_list.append(new_element)\n",
    "\n",
    "print(my_list)\n"
   ]
  },
  {
   "cell_type": "code",
   "execution_count": 11,
   "id": "a37ddf13-88df-4930-8e9d-d301348b393d",
   "metadata": {},
   "outputs": [],
   "source": [
    "# 4. Insert an element at a specific index in a list."
   ]
  },
  {
   "cell_type": "code",
   "execution_count": 12,
   "id": "9d085961-aeb4-4c11-9c05-66e79fb28d8a",
   "metadata": {},
   "outputs": [
    {
     "name": "stdout",
     "output_type": "stream",
     "text": [
      "[1, 2, 3, 4, 5, 6]\n"
     ]
    }
   ],
   "source": [
    "my_list = [1, 2, 3, 5, 6]\n",
    "new_element = 4\n",
    "index_to_insert = 3  # Index at which you want to insert the new element\n",
    "\n",
    "# Use the insert() method to insert the new element at the specified index\n",
    "my_list.insert(index_to_insert, new_element)\n",
    "\n",
    "print(my_list)\n",
    "\n"
   ]
  },
  {
   "cell_type": "code",
   "execution_count": 13,
   "id": "a447f18d-3ed5-4628-a95b-519663ef66d4",
   "metadata": {},
   "outputs": [],
   "source": [
    "# Remove an element from a list by its value."
   ]
  },
  {
   "cell_type": "code",
   "execution_count": 14,
   "id": "7201575f-ccb5-4fdb-bb16-914f46e30e28",
   "metadata": {},
   "outputs": [
    {
     "name": "stdout",
     "output_type": "stream",
     "text": [
      "[1, 2, 4, 5]\n"
     ]
    }
   ],
   "source": [
    "my_list = [1, 2, 3, 4, 5]\n",
    "element_to_remove = 3\n",
    "\n",
    "# Use the remove() method to remove the element by its value\n",
    "my_list.remove(element_to_remove)\n",
    "\n",
    "print(my_list)\n"
   ]
  },
  {
   "cell_type": "code",
   "execution_count": 15,
   "id": "1400c3b3-3cfa-4c2d-960a-415acbc3ccd4",
   "metadata": {},
   "outputs": [],
   "source": [
    "# Remove an element from a list by its index."
   ]
  },
  {
   "cell_type": "code",
   "execution_count": 16,
   "id": "ef78788e-94af-40bb-84cd-2d2efaa11cb4",
   "metadata": {},
   "outputs": [
    {
     "name": "stdout",
     "output_type": "stream",
     "text": [
      "Removed element: 3\n",
      "Updated list: [1, 2, 4, 5]\n"
     ]
    }
   ],
   "source": [
    "my_list = [1, 2, 3, 4, 5]\n",
    "index_to_remove = 2  # Index of the element you want to remove\n",
    "\n",
    "# Use the pop() method to remove the element at the specified index\n",
    "removed_element = my_list.pop(index_to_remove)\n",
    "\n",
    "print(\"Removed element:\", removed_element)\n",
    "print(\"Updated list:\", my_list)\n"
   ]
  },
  {
   "cell_type": "code",
   "execution_count": 18,
   "id": "fc241e5a-b1ff-48a8-8cb3-2fa89acd6afe",
   "metadata": {},
   "outputs": [],
   "source": [
    "# Remove an element from a list by its index."
   ]
  },
  {
   "cell_type": "code",
   "execution_count": 19,
   "id": "63400a56-2651-438e-8851-b0f1c65460dd",
   "metadata": {},
   "outputs": [
    {
     "name": "stdout",
     "output_type": "stream",
     "text": [
      "Removed element: 3\n",
      "Updated list: [1, 2, 4, 5]\n"
     ]
    }
   ],
   "source": [
    "my_list = [1, 2, 3, 4, 5]\n",
    "index_to_remove = 2  # Index of the element you want to remove\n",
    "\n",
    "# Use the pop() method to remove the element at the specified index\n",
    "removed_element = my_list.pop(index_to_remove)\n",
    "\n",
    "print(\"Removed element:\", removed_element)\n",
    "print(\"Updated list:\", my_list)\n"
   ]
  },
  {
   "cell_type": "code",
   "execution_count": 20,
   "id": "cb6e0f85-a8c2-4577-a643-c7f1773f1132",
   "metadata": {},
   "outputs": [],
   "source": [
    "# 7. Check if an element exists in a list."
   ]
  },
  {
   "cell_type": "code",
   "execution_count": 21,
   "id": "b3eb4e45-6949-4f4f-91cd-6e7b610a9602",
   "metadata": {},
   "outputs": [
    {
     "name": "stdout",
     "output_type": "stream",
     "text": [
      "3 exists in the list.\n"
     ]
    }
   ],
   "source": [
    "my_list = [1, 2, 3, 4, 5]\n",
    "element_to_check = 3\n",
    "\n",
    "if element_to_check in my_list:\n",
    "    print(f\"{element_to_check} exists in the list.\")\n",
    "else:\n",
    "    print(f\"{element_to_check} does not exist in the list.\")\n"
   ]
  },
  {
   "cell_type": "code",
   "execution_count": 22,
   "id": "b9f6e3d3-18b0-497d-a85e-597c97c6cb23",
   "metadata": {},
   "outputs": [],
   "source": [
    "# Find the index of the first occurrence of an element in a list."
   ]
  },
  {
   "cell_type": "code",
   "execution_count": 23,
   "id": "f38a6de8-765d-4c00-8ab7-713b52dc5637",
   "metadata": {},
   "outputs": [
    {
     "name": "stdout",
     "output_type": "stream",
     "text": [
      "The index of 3 is: 2\n"
     ]
    }
   ],
   "source": [
    "my_list = [1, 2, 3, 4, 5]\n",
    "element_to_find = 3\n",
    "\n",
    "# Use the index() method to find the index of the first occurrence of the element\n",
    "index = my_list.index(element_to_find)\n",
    "\n",
    "print(f\"The index of {element_to_find} is: {index}\")\n"
   ]
  },
  {
   "cell_type": "code",
   "execution_count": 24,
   "id": "fb2ae843-1a43-4f49-8289-9e6e0b2f77e2",
   "metadata": {},
   "outputs": [],
   "source": [
    "# 9. Count the occurrences of an element in a list."
   ]
  },
  {
   "cell_type": "code",
   "execution_count": 25,
   "id": "6b477d22-addb-4f2c-83de-32a228c08b7c",
   "metadata": {},
   "outputs": [
    {
     "name": "stdout",
     "output_type": "stream",
     "text": [
      "The element 3 appears 3 times in the list.\n"
     ]
    }
   ],
   "source": [
    "my_list = [1, 2, 3, 3, 4, 5, 3]\n",
    "element_to_count = 3\n",
    "\n",
    "# Use the count() method to count the occurrences of the element\n",
    "count = my_list.count(element_to_count)\n",
    "\n",
    "print(f\"The element {element_to_count} appears {count} times in the list.\")\n"
   ]
  },
  {
   "cell_type": "code",
   "execution_count": 26,
   "id": "b9f78c86-8051-4926-9292-65ab39974619",
   "metadata": {},
   "outputs": [],
   "source": [
    "# 10. Reverse the order of elements in a list."
   ]
  },
  {
   "cell_type": "code",
   "execution_count": 27,
   "id": "37a16806-04ed-4ba4-9c1a-94504289ab42",
   "metadata": {},
   "outputs": [
    {
     "name": "stdout",
     "output_type": "stream",
     "text": [
      "[5, 4, 3, 2, 1]\n"
     ]
    }
   ],
   "source": [
    "my_list = [1, 2, 3, 4, 5]\n",
    "my_list = my_list[::-1]\n",
    "\n",
    "print(my_list)\n"
   ]
  },
  {
   "cell_type": "code",
   "execution_count": 28,
   "id": "5dacf7a9-e12d-4894-bc17-977e7c666817",
   "metadata": {},
   "outputs": [],
   "source": [
    "# 11. Sort a list in ascending order."
   ]
  },
  {
   "cell_type": "code",
   "execution_count": 29,
   "id": "95cf41dd-d7e5-44fe-844c-acc29a2c3590",
   "metadata": {},
   "outputs": [
    {
     "name": "stdout",
     "output_type": "stream",
     "text": [
      "[1, 2, 5, 5, 6, 9]\n"
     ]
    }
   ],
   "source": [
    "my_list = [5, 2, 9, 1, 5, 6]\n",
    "sorted_list = sorted(my_list)\n",
    "\n",
    "print(sorted_list)\n"
   ]
  },
  {
   "cell_type": "code",
   "execution_count": 30,
   "id": "4f27f3d7-fa55-4fb0-a7f8-10ff4e1d48c0",
   "metadata": {},
   "outputs": [],
   "source": [
    "# 12. Sort a list in descending order."
   ]
  },
  {
   "cell_type": "code",
   "execution_count": 31,
   "id": "502f7e69-f579-4cf5-a163-fa82a00637e7",
   "metadata": {},
   "outputs": [
    {
     "name": "stdout",
     "output_type": "stream",
     "text": [
      "[9, 6, 5, 5, 2, 1]\n"
     ]
    }
   ],
   "source": [
    "my_list = [5, 2, 9, 1, 5, 6]\n",
    "sorted_list_desc = sorted(my_list, reverse=True)\n",
    "\n",
    "print(sorted_list_desc)\n"
   ]
  },
  {
   "cell_type": "code",
   "execution_count": 32,
   "id": "a9950136-8bb2-4b52-aa1f-9814c87f1277",
   "metadata": {},
   "outputs": [],
   "source": [
    "# 13. Create a list of even numbers from 1 to 20."
   ]
  },
  {
   "cell_type": "code",
   "execution_count": 33,
   "id": "87184275-154d-4009-83a6-36a4c361faa5",
   "metadata": {},
   "outputs": [
    {
     "name": "stdout",
     "output_type": "stream",
     "text": [
      "[2, 4, 6, 8, 10, 12, 14, 16, 18, 20]\n"
     ]
    }
   ],
   "source": [
    "even_numbers = [x for x in range(1, 21) if x % 2 == 0]\n",
    "\n",
    "print(even_numbers)\n"
   ]
  },
  {
   "cell_type": "code",
   "execution_count": 34,
   "id": "ea4db683-5c25-4c51-b468-2ef70f1d7f24",
   "metadata": {},
   "outputs": [],
   "source": [
    "# 14. Create a list of odd numbers from 1 to 20."
   ]
  },
  {
   "cell_type": "code",
   "execution_count": 35,
   "id": "62af5eaa-36a4-426a-bfce-b04111d4d348",
   "metadata": {},
   "outputs": [
    {
     "name": "stdout",
     "output_type": "stream",
     "text": [
      "[1, 3, 5, 7, 9, 11, 13, 15, 17, 19]\n"
     ]
    }
   ],
   "source": [
    "odd_numbers = [x for x in range(1, 21) if x % 2 != 0]\n",
    "\n",
    "print(odd_numbers)\n"
   ]
  },
  {
   "cell_type": "code",
   "execution_count": 36,
   "id": "1549a696-e8f0-438e-8fd3-22bfb59f873d",
   "metadata": {},
   "outputs": [],
   "source": [
    "# 15. Find the sum of all elements in a list."
   ]
  },
  {
   "cell_type": "code",
   "execution_count": 37,
   "id": "ae72ea80-db7a-454c-8f92-76cfa12d73ed",
   "metadata": {},
   "outputs": [
    {
     "name": "stdout",
     "output_type": "stream",
     "text": [
      "The sum of all elements in the list is: 15\n"
     ]
    }
   ],
   "source": [
    "my_list = [1, 2, 3, 4, 5]\n",
    "\n",
    "# Use the sum() function to find the sum of all elements in the list\n",
    "list_sum = sum(my_list)\n",
    "\n",
    "print(\"The sum of all elements in the list is:\", list_sum)\n"
   ]
  },
  {
   "cell_type": "code",
   "execution_count": 38,
   "id": "ccba6df7-f072-4348-aad4-772704c6aee1",
   "metadata": {},
   "outputs": [],
   "source": [
    "# 16. Find the maximum value in a list."
   ]
  },
  {
   "cell_type": "code",
   "execution_count": 39,
   "id": "87685a68-cd4b-4d30-9eae-2f39552cc710",
   "metadata": {},
   "outputs": [
    {
     "name": "stdout",
     "output_type": "stream",
     "text": [
      "The maximum value in the list is: 89\n"
     ]
    }
   ],
   "source": [
    "my_list = [12, 45, 78, 34, 56, 89, 23]\n",
    "\n",
    "# Use the max() function to find the maximum value in the list\n",
    "max_value = max(my_list)\n",
    "\n",
    "print(\"The maximum value in the list is:\", max_value)\n"
   ]
  },
  {
   "cell_type": "code",
   "execution_count": 40,
   "id": "b5cff41f-af06-41d0-98fc-c8bafaeaf585",
   "metadata": {},
   "outputs": [],
   "source": [
    "# 17. Find the minimum value in a list."
   ]
  },
  {
   "cell_type": "code",
   "execution_count": 41,
   "id": "e49158f2-1340-46c8-af31-c91cab25874f",
   "metadata": {},
   "outputs": [
    {
     "name": "stdout",
     "output_type": "stream",
     "text": [
      "The minimum value in the list is: 12\n"
     ]
    }
   ],
   "source": [
    "my_list = [12, 45, 78, 34, 56, 89, 23]\n",
    "\n",
    "# Use the min() function to find the minimum value in the list\n",
    "min_value = min(my_list)\n",
    "\n",
    "print(\"The minimum value in the list is:\", min_value)\n"
   ]
  },
  {
   "cell_type": "code",
   "execution_count": 42,
   "id": "040190d9-e969-40ce-b03e-8f5f1b68cf22",
   "metadata": {},
   "outputs": [],
   "source": [
    "# 18. Create a list of squares of numbers from 1 to 10."
   ]
  },
  {
   "cell_type": "code",
   "execution_count": 43,
   "id": "fd33cb31-8243-4e5f-97b8-790dac78161b",
   "metadata": {},
   "outputs": [
    {
     "name": "stdout",
     "output_type": "stream",
     "text": [
      "[1, 4, 9, 16, 25, 36, 49, 64, 81, 100]\n"
     ]
    }
   ],
   "source": [
    "squares_list = [x**2 for x in range(1, 11)]\n",
    "\n",
    "print(squares_list)\n"
   ]
  },
  {
   "cell_type": "code",
   "execution_count": 44,
   "id": "7171d10f-367f-48a5-b970-548b9074a0a6",
   "metadata": {},
   "outputs": [],
   "source": [
    "# 19. Create a list of random numbers."
   ]
  },
  {
   "cell_type": "code",
   "execution_count": 45,
   "id": "17c950b8-c5e1-4184-86e2-d032cc8fcd67",
   "metadata": {},
   "outputs": [
    {
     "name": "stdout",
     "output_type": "stream",
     "text": [
      "[56, 2, 50, 16, 25, 14, 81, 98, 28, 71]\n"
     ]
    }
   ],
   "source": [
    "import random\n",
    "\n",
    "# Specify the number of random numbers you want and the range\n",
    "num_random_numbers = 10\n",
    "min_value = 1\n",
    "max_value = 100\n",
    "\n",
    "# Use a list comprehension to generate random numbers\n",
    "random_numbers = [random.randint(min_value, max_value) for _ in range(num_random_numbers)]\n",
    "\n",
    "print(random_numbers)\n"
   ]
  },
  {
   "cell_type": "code",
   "execution_count": 46,
   "id": "602eb7b8-6fe0-4ec2-9321-a455bc86e217",
   "metadata": {},
   "outputs": [],
   "source": [
    "# 20. Remove duplicates from a list."
   ]
  },
  {
   "cell_type": "code",
   "execution_count": 48,
   "id": "21add39b-62fd-442b-b058-5c3a647c94b0",
   "metadata": {},
   "outputs": [
    {
     "name": "stdout",
     "output_type": "stream",
     "text": [
      "[1, 2, 3, 4, 5]\n"
     ]
    }
   ],
   "source": [
    "my_list = [1, 2, 2, 3, 4, 4, 5]\n",
    "\n",
    "# Create an empty list to store unique elements\n",
    "unique_list = []\n",
    "\n",
    "# Iterate through the original list\n",
    "for item in my_list:\n",
    "    if item not in unique_list:\n",
    "        unique_list.append(item)\n",
    "\n",
    "print(unique_list)\n"
   ]
  },
  {
   "cell_type": "code",
   "execution_count": 50,
   "id": "eb4aa1be-bf0f-49db-9035-c1fb66a214f4",
   "metadata": {},
   "outputs": [],
   "source": [
    "# 21. Find the common elements between two lists."
   ]
  },
  {
   "cell_type": "code",
   "execution_count": 51,
   "id": "1c501d2c-aa6d-4ec6-a84d-3b74cac761fe",
   "metadata": {},
   "outputs": [
    {
     "name": "stdout",
     "output_type": "stream",
     "text": [
      "[3, 4, 5]\n"
     ]
    }
   ],
   "source": [
    "list1 = [1, 2, 3, 4, 5]\n",
    "list2 = [3, 4, 5, 6, 7]\n",
    "\n",
    "# Find common elements using set intersection\n",
    "set1 = set(list1)\n",
    "set2 = set(list2)\n",
    "common_elements = list(set1.intersection(set2))\n",
    "\n",
    "print(common_elements)\n"
   ]
  },
  {
   "cell_type": "code",
   "execution_count": 52,
   "id": "3d79d272-a4d0-4f3c-b190-d6b23c892eb2",
   "metadata": {},
   "outputs": [],
   "source": [
    "# 22. Find the difference between two lists."
   ]
  },
  {
   "cell_type": "code",
   "execution_count": 53,
   "id": "273a2e5c-228a-42d8-b6ba-92db8cee7a6a",
   "metadata": {},
   "outputs": [
    {
     "name": "stdout",
     "output_type": "stream",
     "text": [
      "[1, 2]\n"
     ]
    }
   ],
   "source": [
    "list1 = [1, 2, 3, 4, 5]\n",
    "list2 = [3, 4, 5, 6, 7]\n",
    "\n",
    "# Find elements unique to list1 (set difference)\n",
    "difference = list(set(list1) - set(list2))\n",
    "\n",
    "print(difference)\n"
   ]
  },
  {
   "cell_type": "code",
   "execution_count": null,
   "id": "5817ba91-abea-4c52-b811-ae0acc0cc2a9",
   "metadata": {},
   "outputs": [],
   "source": [
    "# 23. Merge two lists."
   ]
  },
  {
   "cell_type": "code",
   "execution_count": 56,
   "id": "fb3aae25-043c-4dd8-9014-c4a5914e9dee",
   "metadata": {},
   "outputs": [
    {
     "name": "stdout",
     "output_type": "stream",
     "text": [
      "[1, 2, 3, 4, 5, 6]\n"
     ]
    }
   ],
   "source": [
    "list1 = [1, 2, 3]\n",
    "list2 = [4, 5, 6]\n",
    "\n",
    "# Merge the two lists using the + operator\n",
    "merged_list = list1 + list2\n",
    "\n",
    "print(merged_list)\n"
   ]
  },
  {
   "cell_type": "code",
   "execution_count": 57,
   "id": "ba0f8cc7-dbe4-4480-be89-f4a5cf1e7f78",
   "metadata": {},
   "outputs": [],
   "source": [
    "# 24. Multiply all elements in a list by 2."
   ]
  },
  {
   "cell_type": "code",
   "execution_count": 58,
   "id": "75b90545-49d0-474c-b85d-fe4ad2ce3f58",
   "metadata": {},
   "outputs": [
    {
     "name": "stdout",
     "output_type": "stream",
     "text": [
      "[2, 4, 6, 8, 10]\n"
     ]
    }
   ],
   "source": [
    "my_list = [1, 2, 3, 4, 5]\n",
    "\n",
    "# Iterate through the list and multiply each element by 2\n",
    "for i in range(len(my_list)):\n",
    "    my_list[i] = my_list[i] * 2\n",
    "\n",
    "print(my_list)\n"
   ]
  },
  {
   "cell_type": "code",
   "execution_count": 59,
   "id": "a9066584-e151-4097-9a58-87b67d13cec4",
   "metadata": {},
   "outputs": [],
   "source": [
    "# 25. Filter out all even numbers from a list."
   ]
  },
  {
   "cell_type": "code",
   "execution_count": 60,
   "id": "58c4c556-a2ff-4c64-904a-c77d3f58e582",
   "metadata": {},
   "outputs": [
    {
     "name": "stdout",
     "output_type": "stream",
     "text": [
      "[1, 3, 5, 7, 9]\n"
     ]
    }
   ],
   "source": [
    "my_list = [1, 2, 3, 4, 5, 6, 7, 8, 9, 10]\n",
    "\n",
    "# Use a list comprehension to filter out even numbers\n",
    "filtered_list = [x for x in my_list if x % 2 != 0]\n",
    "\n",
    "print(filtered_list)\n"
   ]
  },
  {
   "cell_type": "code",
   "execution_count": 61,
   "id": "ec19e373-4ecc-49d6-8d34-e29131e95e76",
   "metadata": {},
   "outputs": [],
   "source": [
    "# 26. Convert a list of strings to a list of integers."
   ]
  },
  {
   "cell_type": "code",
   "execution_count": 62,
   "id": "1e747b5b-322c-47eb-a472-f4df4101ccc2",
   "metadata": {},
   "outputs": [
    {
     "name": "stdout",
     "output_type": "stream",
     "text": [
      "[1, 2, 3, 4, 5]\n"
     ]
    }
   ],
   "source": [
    "string_list = [\"1\", \"2\", \"3\", \"4\", \"5\"]\n",
    "\n",
    "# Use a list comprehension to convert the strings to integers\n",
    "integer_list = [int(x) for x in string_list]\n",
    "\n",
    "print(integer_list)\n"
   ]
  },
  {
   "cell_type": "code",
   "execution_count": 63,
   "id": "d51989e6-13b7-499e-a7e9-3c70e5277810",
   "metadata": {},
   "outputs": [],
   "source": [
    "# 27. Convert a list of integers to a list of strings."
   ]
  },
  {
   "cell_type": "code",
   "execution_count": 64,
   "id": "33e1117f-eb87-4833-b19f-3b663ecb7c0d",
   "metadata": {},
   "outputs": [
    {
     "name": "stdout",
     "output_type": "stream",
     "text": [
      "['1', '2', '3', '4', '5']\n"
     ]
    }
   ],
   "source": [
    "integer_list = [1, 2, 3, 4, 5]\n",
    "\n",
    "# Use a list comprehension to convert the integers to strings\n",
    "string_list = [str(x) for x in integer_list]\n",
    "\n",
    "print(string_list)\n"
   ]
  },
  {
   "cell_type": "code",
   "execution_count": 65,
   "id": "fa71f7f8-81d0-483d-bf2d-6956c61e0d45",
   "metadata": {},
   "outputs": [],
   "source": [
    "# 28. Flatten a nested list."
   ]
  },
  {
   "cell_type": "code",
   "execution_count": 66,
   "id": "90009c2b-a280-4294-891b-0a412f92c4db",
   "metadata": {},
   "outputs": [
    {
     "name": "stdout",
     "output_type": "stream",
     "text": [
      "[1, 2, 3, 4, [5, 6], 7]\n"
     ]
    }
   ],
   "source": [
    "nested_list = [1, [2, 3], [4, [5, 6]], 7]\n",
    "\n",
    "# Use list comprehension to flatten the nested list\n",
    "flattened_list = [item for sublist in nested_list for item in (sublist if isinstance(sublist, list) else [sublist])]\n",
    "\n",
    "print(flattened_list)\n"
   ]
  },
  {
   "cell_type": "code",
   "execution_count": 67,
   "id": "66fbdc72-5c93-44f4-88cc-d2d078053e56",
   "metadata": {},
   "outputs": [],
   "source": [
    "# 29. Create a list of the first 10 Fibonacci numbers."
   ]
  },
  {
   "cell_type": "code",
   "execution_count": 68,
   "id": "99440c23-f368-4ddc-9051-65b6e74f95bc",
   "metadata": {},
   "outputs": [
    {
     "name": "stdout",
     "output_type": "stream",
     "text": [
      "[0, 1, 1, 2, 3, 5, 8, 13, 21, 34]\n"
     ]
    }
   ],
   "source": [
    "# Function to generate the first n Fibonacci numbers\n",
    "def generate_fibonacci(n):\n",
    "    fibonacci_sequence = []\n",
    "    a, b = 0, 1\n",
    "\n",
    "    for _ in range(n):\n",
    "        fibonacci_sequence.append(a)\n",
    "        a, b = b, a + b\n",
    "\n",
    "    return fibonacci_sequence\n",
    "\n",
    "# Create a list of the first 10 Fibonacci numbers\n",
    "fibonacci_list = generate_fibonacci(10)\n",
    "\n",
    "print(fibonacci_list)\n"
   ]
  },
  {
   "cell_type": "code",
   "execution_count": 69,
   "id": "a6a7cc6b-4715-4c66-a763-a46daecc4e88",
   "metadata": {},
   "outputs": [],
   "source": [
    "# 30. Check if a list is sorted."
   ]
  },
  {
   "cell_type": "code",
   "execution_count": 70,
   "id": "381f1ea8-0013-495e-a095-a0657ef31f72",
   "metadata": {},
   "outputs": [
    {
     "name": "stdout",
     "output_type": "stream",
     "text": [
      "The list is sorted in ascending order.\n"
     ]
    }
   ],
   "source": [
    "def is_sorted(arr):\n",
    "    n = len(arr)\n",
    "    for i in range(1, n):\n",
    "        if arr[i - 1] > arr[i]:\n",
    "            return False\n",
    "    return True\n",
    "\n",
    "# Example usage:\n",
    "my_list = [1, 2, 3, 4, 5]\n",
    "if is_sorted(my_list):\n",
    "    print(\"The list is sorted in ascending order.\")\n",
    "else:\n",
    "    print(\"The list is not sorted in ascending order.\")\n"
   ]
  },
  {
   "cell_type": "code",
   "execution_count": 71,
   "id": "0f24be04-e433-441d-a149-7b008ea5e24b",
   "metadata": {},
   "outputs": [],
   "source": [
    "# 31. Rotate a list to the left by `n` positions.\n"
   ]
  },
  {
   "cell_type": "code",
   "execution_count": 72,
   "id": "77086ca7-89cf-45fe-9fbf-67c9cc2b4d06",
   "metadata": {},
   "outputs": [
    {
     "name": "stdout",
     "output_type": "stream",
     "text": [
      "[3, 4, 5, 1, 2]\n"
     ]
    }
   ],
   "source": [
    "def rotate_left(arr, n):\n",
    "    # Calculate the effective rotation index\n",
    "    n = n % len(arr)\n",
    "    \n",
    "    # Rotate the list to the left\n",
    "    rotated_list = arr[n:] + arr[:n]\n",
    "    \n",
    "    return rotated_list\n",
    "\n",
    "# Example usage:\n",
    "my_list = [1, 2, 3, 4, 5]\n",
    "n = 2  # Rotate left by 2 positions\n",
    "\n",
    "rotated = rotate_left(my_list, n)\n",
    "print(rotated)\n"
   ]
  },
  {
   "cell_type": "code",
   "execution_count": 73,
   "id": "478402b5-38da-4b5a-b4dc-6f453660f41e",
   "metadata": {},
   "outputs": [],
   "source": [
    "# 32. Rotate a list to the right by `n` positions."
   ]
  },
  {
   "cell_type": "code",
   "execution_count": 74,
   "id": "594ba05b-2119-40af-9f21-a896f33ce1b2",
   "metadata": {},
   "outputs": [
    {
     "name": "stdout",
     "output_type": "stream",
     "text": [
      "[4, 5, 1, 2, 3]\n"
     ]
    }
   ],
   "source": [
    "def rotate_right(arr, n):\n",
    "    # Calculate the effective rotation index\n",
    "    n = n % len(arr)\n",
    "    \n",
    "    # Rotate the list to the right\n",
    "    rotated_list = arr[-n:] + arr[:-n]\n",
    "    \n",
    "    return rotated_list\n",
    "\n",
    "# Example usage:\n",
    "my_list = [1, 2, 3, 4, 5]\n",
    "n = 2  # Rotate right by 2 positions\n",
    "\n",
    "rotated = rotate_right(my_list, n)\n",
    "print(rotated)\n"
   ]
  },
  {
   "cell_type": "code",
   "execution_count": 75,
   "id": "3a4941d1-5203-4669-9516-9d20c6065015",
   "metadata": {},
   "outputs": [],
   "source": [
    "# 33. Create a list of prime numbers up to 50."
   ]
  },
  {
   "cell_type": "code",
   "execution_count": 77,
   "id": "bbd7a146-93e4-4052-98bf-140245b7c78f",
   "metadata": {},
   "outputs": [
    {
     "name": "stdout",
     "output_type": "stream",
     "text": [
      "[2, 3, 5, 7, 11, 13, 17, 19, 23, 29, 31, 37, 41, 43, 47]\n"
     ]
    }
   ],
   "source": [
    "def is_prime(num):\n",
    "    if num <= 1:\n",
    "        return False\n",
    "    if num <= 3:\n",
    "        return True\n",
    "    if num % 2 == 0 or num % 3 == 0:\n",
    "        return False\n",
    "    i = 5\n",
    "    while i * i <= num:\n",
    "        if num % i == 0 or num % (i + 2) == 0:\n",
    "            return False\n",
    "        i += 6\n",
    "    return True\n",
    "\n",
    "# Create a list of prime numbers up to 50\n",
    "prime_numbers = [num for num in range(2, 51) if is_prime(num)]\n",
    "\n",
    "print(prime_numbers)\n"
   ]
  },
  {
   "cell_type": "code",
   "execution_count": 78,
   "id": "a1082751-0989-4306-939d-21e2953b9521",
   "metadata": {},
   "outputs": [],
   "source": [
    "# 34. Split a list into chunks of size `n`."
   ]
  },
  {
   "cell_type": "code",
   "execution_count": 79,
   "id": "fae7f1f8-fbdf-482a-9002-c4ab47ea4931",
   "metadata": {},
   "outputs": [
    {
     "name": "stdout",
     "output_type": "stream",
     "text": [
      "[[1, 2, 3], [4, 5, 6], [7, 8, 9]]\n"
     ]
    }
   ],
   "source": [
    "def split_into_chunks(arr, n):\n",
    "    # Initialize an empty list to store the chunks\n",
    "    chunks = []\n",
    "\n",
    "    for i in range(0, len(arr), n):\n",
    "        chunk = arr[i:i + n]\n",
    "        chunks.append(chunk)\n",
    "\n",
    "    return chunks\n",
    "\n",
    "# Example usage:\n",
    "my_list = [1, 2, 3, 4, 5, 6, 7, 8, 9]\n",
    "chunk_size = 3\n",
    "\n",
    "chunks = split_into_chunks(my_list, chunk_size)\n",
    "print(chunks)\n"
   ]
  },
  {
   "cell_type": "code",
   "execution_count": 81,
   "id": "82edac70-c0ff-4567-8cdd-f026afaa755b",
   "metadata": {},
   "outputs": [],
   "source": [
    "# 35. Find the second largest number in a list."
   ]
  },
  {
   "cell_type": "code",
   "execution_count": 82,
   "id": "e279af1e-dd7d-4805-bd5b-45f2635a89be",
   "metadata": {},
   "outputs": [
    {
     "name": "stdout",
     "output_type": "stream",
     "text": [
      "The second largest number is: 6\n"
     ]
    }
   ],
   "source": [
    "def second_largest(arr):\n",
    "    if len(arr) < 2:\n",
    "        return \"List has fewer than 2 elements\"\n",
    "    \n",
    "    largest = second = float('-inf')  # Initialize largest and second to negative infinity\n",
    "    \n",
    "    for num in arr:\n",
    "        if num > largest:\n",
    "            second = largest\n",
    "            largest = num\n",
    "        elif num > second and num != largest:\n",
    "            second = num\n",
    "    \n",
    "    if second == float('-inf'):\n",
    "        return \"No second largest element found\"\n",
    "    \n",
    "    return second\n",
    "\n",
    "# Example usage:\n",
    "my_list = [3, 1, 7, 4, 5, 6, 2]\n",
    "\n",
    "second_largest_number = second_largest(my_list)\n",
    "print(\"The second largest number is:\", second_largest_number)\n",
    "\n"
   ]
  },
  {
   "cell_type": "code",
   "execution_count": 83,
   "id": "ac79d7a3-b542-42c2-a48a-2b64ea26045d",
   "metadata": {},
   "outputs": [],
   "source": [
    "# 36. Replace every element in a list with its square."
   ]
  },
  {
   "cell_type": "code",
   "execution_count": 84,
   "id": "7c1030a2-6a05-4332-9205-aca0e9d83ce7",
   "metadata": {},
   "outputs": [
    {
     "name": "stdout",
     "output_type": "stream",
     "text": [
      "[1, 4, 9, 16, 25]\n"
     ]
    }
   ],
   "source": [
    "my_list = [1, 2, 3, 4, 5]\n",
    "\n",
    "# Use a loop to square each element in the list\n",
    "for i in range(len(my_list)):\n",
    "    my_list[i] = my_list[i] ** 2\n",
    "\n",
    "print(my_list)\n"
   ]
  },
  {
   "cell_type": "code",
   "execution_count": 85,
   "id": "10db6a96-6398-4e56-8b91-dedeb9ba6367",
   "metadata": {},
   "outputs": [],
   "source": [
    "# 37. Convert a list to a dictionary where list elements become keys and their\n",
    "# indices become values."
   ]
  },
  {
   "cell_type": "code",
   "execution_count": 86,
   "id": "c2ea39eb-4064-44e1-9c93-3e96b30f2eed",
   "metadata": {},
   "outputs": [
    {
     "name": "stdout",
     "output_type": "stream",
     "text": [
      "{'apple': 0, 'banana': 1, 'cherry': 2, 'date': 3}\n"
     ]
    }
   ],
   "source": [
    "my_list = [\"apple\", \"banana\", \"cherry\", \"date\"]\n",
    "\n",
    "# Use a dictionary comprehension to create the dictionary\n",
    "result_dict = {value: index for index, value in enumerate(my_list)}\n",
    "\n",
    "print(result_dict)\n"
   ]
  },
  {
   "cell_type": "code",
   "execution_count": 87,
   "id": "e56efffe-ce56-4e7f-b846-32b6c0a3eeee",
   "metadata": {},
   "outputs": [],
   "source": [
    "# 38. Shuffle the elements of a list randomly."
   ]
  },
  {
   "cell_type": "code",
   "execution_count": 88,
   "id": "b60c7643-4d3a-4b36-86cb-06437f6669b6",
   "metadata": {},
   "outputs": [
    {
     "name": "stdout",
     "output_type": "stream",
     "text": [
      "[5, 3, 2, 1, 4]\n"
     ]
    }
   ],
   "source": [
    "import random\n",
    "\n",
    "my_list = [1, 2, 3, 4, 5]\n",
    "\n",
    "# Shuffle the list randomly\n",
    "random.shuffle(my_list)\n",
    "\n",
    "print(my_list)\n"
   ]
  },
  {
   "cell_type": "code",
   "execution_count": 89,
   "id": "2dbb03f7-2691-4f64-be07-ed685b3204d5",
   "metadata": {},
   "outputs": [],
   "source": [
    "# 39. Create a list of the first 10 factorial numbers."
   ]
  },
  {
   "cell_type": "code",
   "execution_count": 90,
   "id": "be982ee1-bb01-4a4b-abe1-c30bcdc465cd",
   "metadata": {},
   "outputs": [
    {
     "name": "stdout",
     "output_type": "stream",
     "text": [
      "[1, 1, 2, 6, 24, 120, 720, 5040, 40320, 362880]\n"
     ]
    }
   ],
   "source": [
    "def factorial(n):\n",
    "    if n == 0:\n",
    "        return 1\n",
    "    else:\n",
    "        return n * factorial(n - 1)\n",
    "\n",
    "# Create a list of the first 10 factorial numbers\n",
    "factorial_list = [factorial(i) for i in range(10)]\n",
    "\n",
    "print(factorial_list)\n"
   ]
  },
  {
   "cell_type": "code",
   "execution_count": 91,
   "id": "1101f5dd-24f7-40ce-b6c7-49483ece8373",
   "metadata": {},
   "outputs": [],
   "source": [
    "# 40. Check if two lists have at least one element in common."
   ]
  },
  {
   "cell_type": "code",
   "execution_count": 96,
   "id": "1e378670-6717-4ab0-9b1a-3bdf0cd42ec0",
   "metadata": {},
   "outputs": [
    {
     "name": "stdout",
     "output_type": "stream",
     "text": [
      "The lists have at least one common element.\n"
     ]
    }
   ],
   "source": [
    "list1 = [1, 2, 3, 4, 5]\n",
    "list2 = [4, 5, 6, 7, 8]\n",
    "\n",
    "# Check if there is an intersection using set intersection\n",
    "set1 = set(list1)\n",
    "set2 = set(list2)\n",
    "\n",
    "if set1.intersection(set2):\n",
    "    print(\"The lists have at least one common element.\")\n",
    "else:\n",
    "    print(\"The lists have no common elements.\")\n"
   ]
  },
  {
   "cell_type": "code",
   "execution_count": 97,
   "id": "7f0232ac-e8ef-4cdd-9237-a4915e763fd1",
   "metadata": {},
   "outputs": [],
   "source": [
    "# 41. Remove all elements from a list."
   ]
  },
  {
   "cell_type": "code",
   "execution_count": 98,
   "id": "35a5c142-ad4a-4a56-bda6-807c6ae6bbae",
   "metadata": {},
   "outputs": [
    {
     "name": "stdout",
     "output_type": "stream",
     "text": [
      "[]\n"
     ]
    }
   ],
   "source": [
    "my_list = [1, 2, 3, 4, 5]\n",
    "\n",
    "# Remove all elements from the list using clear()\n",
    "my_list.clear()\n",
    "\n",
    "print(my_list)  # Output: []\n"
   ]
  },
  {
   "cell_type": "code",
   "execution_count": 99,
   "id": "7fad1503-caec-4abe-aa9c-7adfd0541cac",
   "metadata": {},
   "outputs": [],
   "source": [
    "# 42. Replace negative numbers in a list with 0."
   ]
  },
  {
   "cell_type": "code",
   "execution_count": 100,
   "id": "a2bf6677-bf30-4657-bb06-90c9ae80b725",
   "metadata": {},
   "outputs": [
    {
     "name": "stdout",
     "output_type": "stream",
     "text": [
      "[1, 0, 3, 0, 5]\n"
     ]
    }
   ],
   "source": [
    "my_list = [1, -2, 3, -4, 5]\n",
    "\n",
    "# Use a loop to replace negative numbers with 0\n",
    "for i in range(len(my_list)):\n",
    "    if my_list[i] < 0:\n",
    "        my_list[i] = 0\n",
    "\n",
    "print(my_list)\n"
   ]
  },
  {
   "cell_type": "code",
   "execution_count": 101,
   "id": "facbd889-1115-4c48-931e-66bb9734656a",
   "metadata": {},
   "outputs": [],
   "source": [
    "# 43. Convert a string into a list of words."
   ]
  },
  {
   "cell_type": "code",
   "execution_count": 102,
   "id": "4202cd22-983c-4fd4-a57e-6bc6eb2a180f",
   "metadata": {},
   "outputs": [
    {
     "name": "stdout",
     "output_type": "stream",
     "text": [
      "['This', 'is', 'a', 'sample', 'sentence.']\n"
     ]
    }
   ],
   "source": [
    "# Input string\n",
    "input_string = \"This is a sample sentence.\"\n",
    "\n",
    "# Convert the string into a list of words\n",
    "word_list = input_string.split()\n",
    "\n",
    "print(word_list)\n"
   ]
  },
  {
   "cell_type": "code",
   "execution_count": 103,
   "id": "675856bf-bbf0-4131-9f70-22d4e00c80c0",
   "metadata": {},
   "outputs": [],
   "source": [
    "# 44. Convert a list of words into a string."
   ]
  },
  {
   "cell_type": "code",
   "execution_count": 104,
   "id": "c1599b46-ac1e-4450-a292-b92db1555fed",
   "metadata": {},
   "outputs": [
    {
     "name": "stdout",
     "output_type": "stream",
     "text": [
      "This is a list of words\n"
     ]
    }
   ],
   "source": [
    "# List of words\n",
    "word_list = ['This', 'is', 'a', 'list', 'of', 'words']\n",
    "\n",
    "# Convert the list of words into a string\n",
    "output_string = ' '.join(word_list)\n",
    "\n",
    "print(output_string)\n"
   ]
  },
  {
   "cell_type": "code",
   "execution_count": 106,
   "id": "ddc536fc-700d-4ab7-87f1-15fb6e729c6c",
   "metadata": {},
   "outputs": [],
   "source": [
    "# 45. Create a list of the first `n` powers of 2."
   ]
  },
  {
   "cell_type": "code",
   "execution_count": 107,
   "id": "8cf5aa6a-4c0d-4dcc-861a-ebe75e4eff01",
   "metadata": {},
   "outputs": [
    {
     "name": "stdout",
     "output_type": "stream",
     "text": [
      "[1, 2, 4, 8, 16]\n"
     ]
    }
   ],
   "source": [
    "def powers_of_2(n):\n",
    "    powers_list = [2**i for i in range(n)]\n",
    "    return powers_list\n",
    "\n",
    "# Example usage:\n",
    "n = 5  # Generate the first 5 powers of 2\n",
    "\n",
    "powers_list = powers_of_2(n)\n",
    "print(powers_list)\n"
   ]
  },
  {
   "cell_type": "code",
   "execution_count": 108,
   "id": "d60e44c2-a9d7-4c34-b429-94d53cfac971",
   "metadata": {},
   "outputs": [],
   "source": [
    "# 46. Find the longest string in a list of strings."
   ]
  },
  {
   "cell_type": "code",
   "execution_count": 109,
   "id": "3e54854a-6870-4c87-881f-529471da1f16",
   "metadata": {},
   "outputs": [
    {
     "name": "stdout",
     "output_type": "stream",
     "text": [
      "The longest string is: banana\n"
     ]
    }
   ],
   "source": [
    "string_list = [\"apple\", \"banana\", \"cherry\", \"date\", \"fig\"]\n",
    "\n",
    "# Find the longest string using the max() function\n",
    "longest_string = max(string_list, key=len)\n",
    "\n",
    "print(\"The longest string is:\", longest_string)\n"
   ]
  },
  {
   "cell_type": "code",
   "execution_count": 110,
   "id": "2da3fb6e-98bb-4911-b68f-796da8a97154",
   "metadata": {},
   "outputs": [],
   "source": [
    "# 47. Find the shortest string in a list of strings."
   ]
  },
  {
   "cell_type": "code",
   "execution_count": 111,
   "id": "70756a67-06cf-4d29-b410-8c63ebaff374",
   "metadata": {},
   "outputs": [
    {
     "name": "stdout",
     "output_type": "stream",
     "text": [
      "The shortest string is: fig\n"
     ]
    }
   ],
   "source": [
    "string_list = [\"apple\", \"banana\", \"cherry\", \"date\", \"fig\"]\n",
    "\n",
    "# Find the shortest string using the min() function\n",
    "shortest_string = min(string_list, key=len)\n",
    "\n",
    "print(\"The shortest string is:\", shortest_string)\n"
   ]
  },
  {
   "cell_type": "code",
   "execution_count": 112,
   "id": "54e0bae9-d975-4f6c-8f59-910ed760d367",
   "metadata": {},
   "outputs": [],
   "source": [
    "# 48. Create a list of the first `n` triangular numbers."
   ]
  },
  {
   "cell_type": "code",
   "execution_count": 113,
   "id": "2c36dea5-a6db-4a9a-b4b3-b0cc8492a37f",
   "metadata": {},
   "outputs": [
    {
     "name": "stdout",
     "output_type": "stream",
     "text": [
      "[1, 3, 6, 10, 15]\n"
     ]
    }
   ],
   "source": [
    "def generate_triangular_numbers(n):\n",
    "    triangular_numbers = []\n",
    "    total = 0\n",
    "\n",
    "    for i in range(1, n + 1):\n",
    "        total += i\n",
    "        triangular_numbers.append(total)\n",
    "\n",
    "    return triangular_numbers\n",
    "\n",
    "# Example usage:\n",
    "n = 5  # Generate the first 5 triangular numbers\n",
    "\n",
    "triangular_numbers_list = generate_triangular_numbers(n)\n",
    "print(triangular_numbers_list)\n"
   ]
  },
  {
   "cell_type": "code",
   "execution_count": 114,
   "id": "6f1c1ef6-54d7-4009-bfb6-75c7ddf5af00",
   "metadata": {},
   "outputs": [],
   "source": [
    "# 49. Check if a list contains another list as a subsequence."
   ]
  },
  {
   "cell_type": "code",
   "execution_count": 116,
   "id": "5c17e33e-12fe-4053-9242-5a53f5d02559",
   "metadata": {},
   "outputs": [
    {
     "name": "stdout",
     "output_type": "stream",
     "text": [
      "The subsequence is present in the main list.\n"
     ]
    }
   ],
   "source": [
    "def is_subsequence(main_list, subsequence):\n",
    "    # Initialize indices for the main list and subsequence\n",
    "    main_index = 0\n",
    "    sub_index = 0\n",
    "\n",
    "    # Iterate through the main list\n",
    "    while main_index < len(main_list) and sub_index < len(subsequence):\n",
    "        # If the elements match, move to the next element in the subsequence\n",
    "        if main_list[main_index] == subsequence[sub_index]:\n",
    "            sub_index += 1\n",
    "        main_index += 1\n",
    "\n",
    "    # If all elements of the subsequence are found, it's a subsequence\n",
    "    return sub_index == len(subsequence)\n",
    "\n",
    "# Example usage:\n",
    "main_list = [1, 2, 3, 4, 5, 6]\n",
    "subsequence = [2, 4, 6]\n",
    "\n",
    "if is_subsequence(main_list, subsequence):\n",
    "    print(\"The subsequence is present in the main list.\")\n",
    "else:\n",
    "    print(\"The subsequence is not present in the main list.\")\n"
   ]
  },
  {
   "cell_type": "code",
   "execution_count": 117,
   "id": "aaddfb0e-b797-43ad-b38c-c48fbcb101de",
   "metadata": {},
   "outputs": [],
   "source": [
    "# 50. Swap two elements in a list by their indices."
   ]
  },
  {
   "cell_type": "code",
   "execution_count": 118,
   "id": "413eca33-bada-4584-97f7-52ec3ca20255",
   "metadata": {},
   "outputs": [
    {
     "name": "stdout",
     "output_type": "stream",
     "text": [
      "[1, 4, 3, 2, 5]\n"
     ]
    }
   ],
   "source": [
    "def swap_elements_by_indices(arr, index1, index2):\n",
    "    # Check if the indices are valid\n",
    "    if 0 <= index1 < len(arr) and 0 <= index2 < len(arr):\n",
    "        # Swap the elements without a temporary variable\n",
    "        arr[index1], arr[index2] = arr[index2], arr[index1]\n",
    "    else:\n",
    "        print(\"Invalid indices provided.\")\n",
    "\n",
    "# Example usage:\n",
    "my_list = [1, 2, 3, 4, 5]\n",
    "\n",
    "# Swap elements at indices 1 and 3\n",
    "swap_elements_by_indices(my_list, 1, 3)\n",
    "\n",
    "print(my_list)\n"
   ]
  },
  {
   "cell_type": "code",
   "execution_count": 119,
   "id": "3016a0a7-c00c-4b2c-a225-cc20ad49989e",
   "metadata": {},
   "outputs": [],
   "source": [
    "# Tuple Based Practice Problem :"
   ]
  },
  {
   "cell_type": "code",
   "execution_count": 120,
   "id": "2e0071e2-a50a-4266-bfe9-1b725a38a324",
   "metadata": {},
   "outputs": [],
   "source": [
    "# 1. Create a tuple with integers from 1 to 5."
   ]
  },
  {
   "cell_type": "code",
   "execution_count": 122,
   "id": "395a3e75-71cf-4380-98c0-ee4d8ea2444b",
   "metadata": {},
   "outputs": [],
   "source": [
    "my_tuple = (1, 2, 3, 4, 5)\n"
   ]
  },
  {
   "cell_type": "code",
   "execution_count": 123,
   "id": "a058671d-7a12-4af1-9cc4-2b98e11efd87",
   "metadata": {},
   "outputs": [],
   "source": [
    "# 2. Access the third element of a tuple."
   ]
  },
  {
   "cell_type": "code",
   "execution_count": 127,
   "id": "383de053-3b57-4890-8b01-a0dd003e8de5",
   "metadata": {},
   "outputs": [
    {
     "name": "stdout",
     "output_type": "stream",
     "text": [
      "3\n"
     ]
    }
   ],
   "source": [
    "my_tuple = (1, 2, 3, 4, 5)\n",
    "third_element = my_tuple[2]  \n",
    "print(third_element)\n"
   ]
  },
  {
   "cell_type": "code",
   "execution_count": 128,
   "id": "f29ac6a6-fabf-4f5d-96ef-411d358c45a1",
   "metadata": {},
   "outputs": [],
   "source": [
    "# 4. Count the occurrences of an element in a tuple."
   ]
  },
  {
   "cell_type": "code",
   "execution_count": 129,
   "id": "2ca8c164-c258-4799-a638-bebc1618de0d",
   "metadata": {},
   "outputs": [
    {
     "name": "stdout",
     "output_type": "stream",
     "text": [
      "3\n"
     ]
    }
   ],
   "source": [
    "my_tuple = (1, 2, 2, 3, 4, 2, 5)\n",
    "element_to_count = 2  # The element you want to count\n",
    "count = my_tuple.count(element_to_count)\n",
    "print(count)\n"
   ]
  },
  {
   "cell_type": "code",
   "execution_count": 130,
   "id": "a0d11d29-5b9d-4d7e-a06d-ab21dde59c72",
   "metadata": {},
   "outputs": [],
   "source": [
    "# 5. Find the index of the first occurrence of an element in a tuple."
   ]
  },
  {
   "cell_type": "code",
   "execution_count": 131,
   "id": "57c61ed5-997b-446e-b474-ff40d85e353b",
   "metadata": {},
   "outputs": [
    {
     "name": "stdout",
     "output_type": "stream",
     "text": [
      "1\n"
     ]
    }
   ],
   "source": [
    "my_tuple = (1, 2, 3, 4, 5, 2)\n",
    "element_to_find = 2  # The element you want to find\n",
    "index = my_tuple.index(element_to_find)\n",
    "print(index)\n"
   ]
  },
  {
   "cell_type": "code",
   "execution_count": 132,
   "id": "6f5dd253-af34-493c-811a-390594a48725",
   "metadata": {},
   "outputs": [],
   "source": [
    "# 6. Check if an element exists in a tuple.\n"
   ]
  },
  {
   "cell_type": "code",
   "execution_count": 133,
   "id": "47fff33b-6268-47bf-97b6-a42287d6123d",
   "metadata": {},
   "outputs": [
    {
     "name": "stdout",
     "output_type": "stream",
     "text": [
      "3 exists in the tuple.\n"
     ]
    }
   ],
   "source": [
    "my_tuple = (1, 2, 3, 4, 5)\n",
    "element_to_check = 3  # The element you want to check for\n",
    "if element_to_check in my_tuple:\n",
    "    print(f\"{element_to_check} exists in the tuple.\")\n",
    "else:\n",
    "    print(f\"{element_to_check} does not exist in the tuple.\")\n"
   ]
  },
  {
   "cell_type": "code",
   "execution_count": 134,
   "id": "c32bd442-d4a9-47fd-8431-800e56617e26",
   "metadata": {},
   "outputs": [],
   "source": [
    "# 7. Convert a tuple to a list."
   ]
  },
  {
   "cell_type": "code",
   "execution_count": 136,
   "id": "093c670a-7b3d-41ce-a7f3-1546ca14f847",
   "metadata": {},
   "outputs": [
    {
     "name": "stdout",
     "output_type": "stream",
     "text": [
      "[1, 2, 3, 4, 5]\n"
     ]
    }
   ],
   "source": [
    "my_tuple = (1, 2, 3, 4, 5)\n",
    "my_list = list(my_tuple)\n",
    "print(my_list)"
   ]
  },
  {
   "cell_type": "code",
   "execution_count": 137,
   "id": "4e748046-b762-417e-82c0-3844915d1f42",
   "metadata": {},
   "outputs": [],
   "source": [
    "# 8. Convert a list to a tuple."
   ]
  },
  {
   "cell_type": "code",
   "execution_count": 139,
   "id": "c449f521-ffd4-4a0c-817c-6c0d3acde990",
   "metadata": {},
   "outputs": [
    {
     "name": "stdout",
     "output_type": "stream",
     "text": [
      "(1, 2, 3, 4, 5)\n"
     ]
    }
   ],
   "source": [
    "my_list = [1, 2, 3, 4, 5]\n",
    "a = tuple(my_list)\n",
    "print(a)"
   ]
  },
  {
   "cell_type": "code",
   "execution_count": 140,
   "id": "4574a863-5125-4602-8bc9-a30a50fba9f0",
   "metadata": {},
   "outputs": [],
   "source": [
    "# 9. Unpack the elements of a tuple into variables."
   ]
  },
  {
   "cell_type": "code",
   "execution_count": 141,
   "id": "58c04605-c7e7-446c-b959-cbb713399671",
   "metadata": {},
   "outputs": [],
   "source": [
    "my_tuple = (1, 2, 3)\n",
    "var1, var2, var3 = my_tuple\n"
   ]
  },
  {
   "cell_type": "code",
   "execution_count": 142,
   "id": "9ebbdffc-b17e-4659-90ac-3ab055bba062",
   "metadata": {},
   "outputs": [],
   "source": [
    "# 10. Create a tuple of even numbers from 1 to 10."
   ]
  },
  {
   "cell_type": "code",
   "execution_count": 144,
   "id": "eb7b8636-a8f0-425a-a26b-bf6e66e2d9f7",
   "metadata": {},
   "outputs": [
    {
     "name": "stdout",
     "output_type": "stream",
     "text": [
      "(2, 4, 6, 8, 10)\n"
     ]
    }
   ],
   "source": [
    "a = tuple(x for x in range(2, 11, 2))\n",
    "print(a)"
   ]
  },
  {
   "cell_type": "code",
   "execution_count": 145,
   "id": "3af938b1-2be8-4417-a087-c262c4de08d2",
   "metadata": {},
   "outputs": [],
   "source": [
    "# 12. Concatenate two tuples."
   ]
  },
  {
   "cell_type": "code",
   "execution_count": 146,
   "id": "e9da5b89-22ac-4352-a9b8-51459a10cbb2",
   "metadata": {},
   "outputs": [],
   "source": [
    "tuple1 = (1, 2, 3)\n",
    "tuple2 = (4, 5, 6)\n",
    "concatenated_tuple = tuple1 + tuple2\n"
   ]
  },
  {
   "cell_type": "code",
   "execution_count": 147,
   "id": "a0894351-360e-4212-b9da-48e99d89dca2",
   "metadata": {},
   "outputs": [],
   "source": [
    "# 13. Repeat a tuple three times."
   ]
  },
  {
   "cell_type": "code",
   "execution_count": 148,
   "id": "e4addec1-1240-4631-8cdc-0cb8b24816e9",
   "metadata": {},
   "outputs": [
    {
     "name": "stdout",
     "output_type": "stream",
     "text": [
      "(1, 2, 3, 1, 2, 3, 1, 2, 3)\n"
     ]
    }
   ],
   "source": [
    "original_tuple = (1, 2, 3)\n",
    "\n",
    "# Repeat the tuple three times\n",
    "repeated_tuple = original_tuple * 3\n",
    "\n",
    "print(repeated_tuple)\n"
   ]
  },
  {
   "cell_type": "code",
   "execution_count": 149,
   "id": "6843a4ad-ea59-492c-b737-657a717ce41d",
   "metadata": {},
   "outputs": [],
   "source": [
    "# 14. Check if a tuple is empty."
   ]
  },
  {
   "cell_type": "code",
   "execution_count": 150,
   "id": "ffd06f65-a120-474a-8cbf-4443589a9d0c",
   "metadata": {},
   "outputs": [
    {
     "name": "stdout",
     "output_type": "stream",
     "text": [
      "The tuple is empty\n"
     ]
    }
   ],
   "source": [
    "my_tuple = ()\n",
    "\n",
    "if len(my_tuple) == 0:\n",
    "    print(\"The tuple is empty\")\n",
    "else:\n",
    "    print(\"The tuple is not empty\")\n"
   ]
  },
  {
   "cell_type": "code",
   "execution_count": 151,
   "id": "a1cdef6e-cc2b-408c-a64d-0d0f320ee2c8",
   "metadata": {},
   "outputs": [],
   "source": [
    "# 15. Create a nested tuple."
   ]
  },
  {
   "cell_type": "code",
   "execution_count": 152,
   "id": "13a42c04-5761-4660-8dac-b970269f9d76",
   "metadata": {},
   "outputs": [
    {
     "name": "stdout",
     "output_type": "stream",
     "text": [
      "(1, 2, 3)\n",
      "6\n"
     ]
    }
   ],
   "source": [
    "nested_tuple = ((1, 2, 3), (4, 5, 6), (7, 8, 9))\n",
    "\n",
    "# Accessing elements within the nested tuple\n",
    "print(nested_tuple[0])  # Prints (1, 2, 3)\n",
    "print(nested_tuple[1][2])  # Prints 6\n"
   ]
  },
  {
   "cell_type": "code",
   "execution_count": 153,
   "id": "06d6a6e6-978c-4144-82f5-1c274664f68a",
   "metadata": {},
   "outputs": [],
   "source": [
    "# 16. Access the first element of a nested tuple."
   ]
  },
  {
   "cell_type": "code",
   "execution_count": 154,
   "id": "37a02458-61b7-49f3-b2ec-3e9942aac605",
   "metadata": {},
   "outputs": [
    {
     "name": "stdout",
     "output_type": "stream",
     "text": [
      "1\n"
     ]
    }
   ],
   "source": [
    "nested_tuple = ((1, 2, 3), (4, 5, 6), (7, 8, 9))\n",
    "\n",
    "# Accessing the first element of the outer tuple\n",
    "first_element_outer = nested_tuple[0]\n",
    "\n",
    "# Accessing the first element of the inner tuple\n",
    "first_element_inner = first_element_outer[0]\n",
    "\n",
    "print(first_element_inner)  # Prints 1\n"
   ]
  },
  {
   "cell_type": "code",
   "execution_count": 155,
   "id": "353f995f-3dbd-43a5-8dd5-2fe162e5c77c",
   "metadata": {},
   "outputs": [],
   "source": [
    "# 17. Create a tuple with a single element."
   ]
  },
  {
   "cell_type": "code",
   "execution_count": 156,
   "id": "c0b6e0e8-ea33-4272-b5a9-915f18ee0e73",
   "metadata": {},
   "outputs": [
    {
     "name": "stdout",
     "output_type": "stream",
     "text": [
      "<class 'tuple'>\n"
     ]
    }
   ],
   "source": [
    "single_element_tuple = (42,)  # Note the trailing comma\n",
    "\n",
    "# Verify the type of the tuple\n",
    "print(type(single_element_tuple))  # Prints <class 'tuple'>\n"
   ]
  },
  {
   "cell_type": "code",
   "execution_count": 157,
   "id": "c296a27b-d7b5-46dc-8569-15ccc04625af",
   "metadata": {},
   "outputs": [],
   "source": [
    "# 18. Compare two tuples."
   ]
  },
  {
   "cell_type": "code",
   "execution_count": 158,
   "id": "43180dc9-7a55-474b-adfb-b6921473f791",
   "metadata": {},
   "outputs": [
    {
     "name": "stdout",
     "output_type": "stream",
     "text": [
      "tuple1 is not equal to tuple2\n",
      "tuple1 is not equal to tuple2\n",
      "tuple1 is less than tuple2\n",
      "tuple1 is not greater than tuple2\n"
     ]
    }
   ],
   "source": [
    "tuple1 = (1, 2, 3)\n",
    "tuple2 = (1, 2, 4)\n",
    "\n",
    "# Compare for equality\n",
    "if tuple1 == tuple2:\n",
    "    print(\"tuple1 is equal to tuple2\")\n",
    "else:\n",
    "    print(\"tuple1 is not equal to tuple2\")\n",
    "\n",
    "# Compare for inequality\n",
    "if tuple1 != tuple2:\n",
    "    print(\"tuple1 is not equal to tuple2\")\n",
    "else:\n",
    "    print(\"tuple1 is equal to tuple2\")\n",
    "\n",
    "# Compare using less than operator\n",
    "if tuple1 < tuple2:\n",
    "    print(\"tuple1 is less than tuple2\")\n",
    "else:\n",
    "    print(\"tuple1 is not less than tuple2\")\n",
    "\n",
    "# Compare using greater than operator\n",
    "if tuple1 > tuple2:\n",
    "    print(\"tuple1 is greater than tuple2\")\n",
    "else:\n",
    "    print(\"tuple1 is not greater than tuple2\")\n"
   ]
  },
  {
   "cell_type": "code",
   "execution_count": 159,
   "id": "daefbe83-ade1-4bfd-88e8-4315df5c6b92",
   "metadata": {},
   "outputs": [],
   "source": [
    "# 19. Delete a tuple."
   ]
  },
  {
   "cell_type": "code",
   "execution_count": 161,
   "id": "a1989f9f-b1d5-4f6b-a1c2-0a11286c5653",
   "metadata": {},
   "outputs": [],
   "source": [
    "my_tuple = (1, 2, 3, 4, 5)\n",
    "\n",
    "# Deleting the entire tuple\n",
    "del my_tuple\n",
    "\n",
    "# print(my_tuple)\n"
   ]
  },
  {
   "cell_type": "code",
   "execution_count": 162,
   "id": "762d8eab-a2e6-4e76-b6c0-45dc94739408",
   "metadata": {},
   "outputs": [],
   "source": [
    "# 20. Slice a tuple."
   ]
  },
  {
   "cell_type": "code",
   "execution_count": 163,
   "id": "bd9797d0-594d-4259-81d6-df87b24821fd",
   "metadata": {},
   "outputs": [
    {
     "name": "stdout",
     "output_type": "stream",
     "text": [
      "(2, 3)\n",
      "(1, 2, 3)\n",
      "(3, 4, 5)\n",
      "(1, 3, 5)\n"
     ]
    }
   ],
   "source": [
    "my_tuple = (1, 2, 3, 4, 5)\n",
    "\n",
    "# Slice from index 1 to 3 (exclusive)\n",
    "slice1 = my_tuple[1:3]\n",
    "print(slice1)  # Output: (2, 3)\n",
    "\n",
    "# Slice from the beginning to index 3 (exclusive)\n",
    "slice2 = my_tuple[:3]\n",
    "print(slice2)  # Output: (1, 2, 3)\n",
    "\n",
    "# Slice from index 2 to the end\n",
    "slice3 = my_tuple[2:]\n",
    "print(slice3)  # Output: (3, 4, 5)\n",
    "\n",
    "# Slice with a step of 2\n",
    "slice4 = my_tuple[::2]\n",
    "print(slice4)  # Output: (1, 3, 5)\n"
   ]
  },
  {
   "cell_type": "code",
   "execution_count": 1,
   "id": "93e2e0f3-d6cb-438e-b0a5-8e1122b97506",
   "metadata": {},
   "outputs": [],
   "source": [
    "# 21. Find the maximum value in a tuple."
   ]
  },
  {
   "cell_type": "code",
   "execution_count": 2,
   "id": "687b1486-5a29-4ab1-839b-6404aaef3ed1",
   "metadata": {},
   "outputs": [
    {
     "name": "stdout",
     "output_type": "stream",
     "text": [
      "The maximum value in the tuple is: 89\n"
     ]
    }
   ],
   "source": [
    "# Define a tuple\n",
    "my_tuple = (12, 45, 7, 23, 56, 89, 34)\n",
    "\n",
    "# Find the maximum value\n",
    "max_value = max(my_tuple)\n",
    "\n",
    "# Print the maximum value\n",
    "print(\"The maximum value in the tuple is:\", max_value)\n"
   ]
  },
  {
   "cell_type": "code",
   "execution_count": 3,
   "id": "58acc895-a4b3-4d20-8b14-a3808e49966d",
   "metadata": {},
   "outputs": [],
   "source": [
    "# 22. Find the minimum value in a tuple."
   ]
  },
  {
   "cell_type": "code",
   "execution_count": 4,
   "id": "876a476d-adc9-4bbf-bcb9-87b25110cdfe",
   "metadata": {},
   "outputs": [
    {
     "name": "stdout",
     "output_type": "stream",
     "text": [
      "The minimum value in the tuple is: 7\n"
     ]
    }
   ],
   "source": [
    "# Define a tuple\n",
    "my_tuple = (12, 45, 7, 23, 56, 89, 34)\n",
    "\n",
    "# Find the minimum value\n",
    "min_value = min(my_tuple)\n",
    "\n",
    "# Print the minimum value\n",
    "print(\"The minimum value in the tuple is:\", min_value)\n"
   ]
  },
  {
   "cell_type": "code",
   "execution_count": 5,
   "id": "b31b4b10-2dfb-4c95-9f31-95da802dc8b6",
   "metadata": {},
   "outputs": [],
   "source": [
    "# 24. Convert a tuple of characters to a string."
   ]
  },
  {
   "cell_type": "code",
   "execution_count": 6,
   "id": "109e5fef-d073-4e08-897e-6bed0cf00abc",
   "metadata": {},
   "outputs": [
    {
     "name": "stdout",
     "output_type": "stream",
     "text": [
      "The converted string is: Hello\n"
     ]
    }
   ],
   "source": [
    "# Define a tuple of characters\n",
    "char_tuple = ('H', 'e', 'l', 'l', 'o')\n",
    "\n",
    "# Convert the tuple to a string\n",
    "char_string = ''.join(char_tuple)\n",
    "\n",
    "# Print the resulting string\n",
    "print(\"The converted string is:\", char_string)\n"
   ]
  },
  {
   "cell_type": "code",
   "execution_count": 7,
   "id": "2e2d5bfd-034a-45ac-946e-6becf80ec1da",
   "metadata": {},
   "outputs": [],
   "source": [
    "# 25. Create a tuple from multiple data types."
   ]
  },
  {
   "cell_type": "code",
   "execution_count": 8,
   "id": "1d35212d-7635-484e-a336-59b100f0b217",
   "metadata": {},
   "outputs": [
    {
     "name": "stdout",
     "output_type": "stream",
     "text": [
      "(42, 'Hello', 3.1415, True)\n"
     ]
    }
   ],
   "source": [
    "# Create a tuple with multiple data types\n",
    "mixed_tuple = (42, \"Hello\", 3.1415, True)\n",
    "\n",
    "# Print the tuple\n",
    "print(mixed_tuple)\n"
   ]
  },
  {
   "cell_type": "code",
   "execution_count": 9,
   "id": "a4924797-bb8b-4944-a0ec-4e7da1260a0f",
   "metadata": {},
   "outputs": [],
   "source": [
    "# 26. Check if two tuples are identical."
   ]
  },
  {
   "cell_type": "code",
   "execution_count": 10,
   "id": "8e9d5ed2-a52a-4e38-a233-f5e6e71cdd7c",
   "metadata": {},
   "outputs": [
    {
     "name": "stdout",
     "output_type": "stream",
     "text": [
      "The two tuples are identical.\n"
     ]
    }
   ],
   "source": [
    "# Define two tuples\n",
    "tuple1 = (1, 2, 3, 4)\n",
    "tuple2 = (1, 2, 3, 4)\n",
    "\n",
    "# Check if the two tuples are identical\n",
    "are_identical = (tuple1 == tuple2)\n",
    "\n",
    "# Print the result\n",
    "if are_identical:\n",
    "    print(\"The two tuples are identical.\")\n",
    "else:\n",
    "    print(\"The two tuples are not identical.\")\n"
   ]
  },
  {
   "cell_type": "code",
   "execution_count": 11,
   "id": "98bd6a62-53f9-4483-9e56-2a9a8975e200",
   "metadata": {},
   "outputs": [],
   "source": [
    "# 27. Sort the elements of a tuple."
   ]
  },
  {
   "cell_type": "code",
   "execution_count": 12,
   "id": "6b3a0cf8-66f6-42b7-8920-3210d2d800a9",
   "metadata": {},
   "outputs": [
    {
     "name": "stdout",
     "output_type": "stream",
     "text": [
      "Original tuple: (9, 3, 7, 1, 5)\n",
      "Sorted tuple: (1, 3, 5, 7, 9)\n"
     ]
    }
   ],
   "source": [
    "# Define a tuple\n",
    "my_tuple = (9, 3, 7, 1, 5)\n",
    "\n",
    "# Sort the elements and create a new tuple\n",
    "sorted_tuple = tuple(sorted(my_tuple))\n",
    "\n",
    "# Print the sorted tuple\n",
    "print(\"Original tuple:\", my_tuple)\n",
    "print(\"Sorted tuple:\", sorted_tuple)\n"
   ]
  },
  {
   "cell_type": "code",
   "execution_count": 13,
   "id": "64d9b3d9-5b41-4ca3-b952-d668263a942f",
   "metadata": {},
   "outputs": [],
   "source": [
    "# 28. Convert a tuple of integers to a tuple of strings."
   ]
  },
  {
   "cell_type": "code",
   "execution_count": 14,
   "id": "7486a622-c2d9-4282-90a3-adac1cb7ebfe",
   "metadata": {},
   "outputs": [
    {
     "name": "stdout",
     "output_type": "stream",
     "text": [
      "Original tuple of integers: (1, 2, 3, 4, 5)\n",
      "Tuple of strings: ('1', '2', '3', '4', '5')\n"
     ]
    }
   ],
   "source": [
    "# Define a tuple of integers\n",
    "int_tuple = (1, 2, 3, 4, 5)\n",
    "\n",
    "# Convert the tuple of integers to a tuple of strings\n",
    "str_tuple = tuple(str(x) for x in int_tuple)\n",
    "\n",
    "# Print the resulting tuple of strings\n",
    "print(\"Original tuple of integers:\", int_tuple)\n",
    "print(\"Tuple of strings:\", str_tuple)\n"
   ]
  },
  {
   "cell_type": "code",
   "execution_count": 15,
   "id": "02026402-0b3e-4c2a-a271-92563aec8303",
   "metadata": {},
   "outputs": [],
   "source": [
    "# 29. Convert a tuple of strings to a tuple of integers."
   ]
  },
  {
   "cell_type": "code",
   "execution_count": 16,
   "id": "7cb8d0a9-6aed-482b-a798-730a4977e445",
   "metadata": {},
   "outputs": [
    {
     "name": "stdout",
     "output_type": "stream",
     "text": [
      "Original tuple of strings: ('1', '2', '3', '4', '5')\n",
      "Tuple of integers: (1, 2, 3, 4, 5)\n"
     ]
    }
   ],
   "source": [
    "# Define a tuple of strings\n",
    "str_tuple = ('1', '2', '3', '4', '5')\n",
    "\n",
    "# Convert the tuple of strings to a tuple of integers\n",
    "int_tuple = tuple(int(x) for x in str_tuple)\n",
    "\n",
    "# Print the resulting tuple of integers\n",
    "print(\"Original tuple of strings:\", str_tuple)\n",
    "print(\"Tuple of integers:\", int_tuple)\n"
   ]
  },
  {
   "cell_type": "code",
   "execution_count": 17,
   "id": "46497e6c-7b62-449a-9a4f-67fd023e6216",
   "metadata": {},
   "outputs": [],
   "source": [
    "# 30. Merge two tuples."
   ]
  },
  {
   "cell_type": "code",
   "execution_count": 18,
   "id": "df30118d-5689-4c53-991a-82b3776edcfd",
   "metadata": {},
   "outputs": [
    {
     "name": "stdout",
     "output_type": "stream",
     "text": [
      "Merged tuple: (1, 2, 3, 4, 5, 6)\n"
     ]
    }
   ],
   "source": [
    "# Define two tuples\n",
    "tuple1 = (1, 2, 3)\n",
    "tuple2 = (4, 5, 6)\n",
    "\n",
    "# Merge the two tuples\n",
    "merged_tuple = tuple1 + tuple2\n",
    "\n",
    "# Print the merged tuple\n",
    "print(\"Merged tuple:\", merged_tuple)\n"
   ]
  },
  {
   "cell_type": "code",
   "execution_count": 19,
   "id": "81ae958c-966e-4d98-9881-5ef05142e3f0",
   "metadata": {},
   "outputs": [],
   "source": [
    "# 31. Flatten a nested tuple."
   ]
  },
  {
   "cell_type": "code",
   "execution_count": 20,
   "id": "69b9ec6e-cb4b-416e-ae9c-ad89d9c85dc6",
   "metadata": {},
   "outputs": [
    {
     "name": "stdout",
     "output_type": "stream",
     "text": [
      "Nested tuple: (1, (2, 3), (4, (5, 6)), 7)\n",
      "Flattened tuple: (1, 2, 3, 4, 5, 6, 7)\n"
     ]
    }
   ],
   "source": [
    "# Define a nested tuple\n",
    "nested_tuple = (1, (2, 3), (4, (5, 6)), 7)\n",
    "\n",
    "# Function to flatten a nested tuple\n",
    "def flatten_tuple(nested):\n",
    "    flat_list = []\n",
    "    for item in nested:\n",
    "        if isinstance(item, tuple):\n",
    "            flat_list.extend(flatten_tuple(item))\n",
    "        else:\n",
    "            flat_list.append(item)\n",
    "    return flat_list\n",
    "\n",
    "# Flatten the nested tuple\n",
    "flat_tuple = tuple(flatten_tuple(nested_tuple))\n",
    "\n",
    "# Print the flattened tuple\n",
    "print(\"Nested tuple:\", nested_tuple)\n",
    "print(\"Flattened tuple:\", flat_tuple)\n"
   ]
  },
  {
   "cell_type": "code",
   "execution_count": 21,
   "id": "e8aee1b9-90ac-48d0-b9c2-e4dbd0aab2f3",
   "metadata": {},
   "outputs": [],
   "source": [
    "# 32. Create a tuple of the first 5 prime numbers."
   ]
  },
  {
   "cell_type": "code",
   "execution_count": 22,
   "id": "3ed80bb2-67d6-481a-9c4f-90a495fbc8cd",
   "metadata": {},
   "outputs": [
    {
     "name": "stdout",
     "output_type": "stream",
     "text": [
      "Tuple of the first 5 prime numbers: (2, 3, 5, 7, 11)\n"
     ]
    }
   ],
   "source": [
    "# Define a tuple of the first 5 prime numbers\n",
    "prime_numbers = (2, 3, 5, 7, 11)\n",
    "\n",
    "# Print the tuple\n",
    "print(\"Tuple of the first 5 prime numbers:\", prime_numbers)\n"
   ]
  },
  {
   "cell_type": "code",
   "execution_count": 23,
   "id": "f90eadae-116e-481a-8250-5e0496ea85f7",
   "metadata": {},
   "outputs": [],
   "source": [
    "# 33. Check if a tuple is a palindrome."
   ]
  },
  {
   "cell_type": "code",
   "execution_count": 24,
   "id": "b0643fc6-2905-4851-9ada-cae4994657a4",
   "metadata": {},
   "outputs": [
    {
     "name": "stdout",
     "output_type": "stream",
     "text": [
      "True\n"
     ]
    }
   ],
   "source": [
    "def is_tuple_palindrome(input_tuple):\n",
    "    # Convert the tuple to a list\n",
    "    input_list = list(input_tuple)\n",
    "    \n",
    "    # Compare the list with its reverse\n",
    "    return input_list == input_list[::-1]\n",
    "\n",
    "# Example usage:\n",
    "my_tuple = (1, 2, 3, 2, 1)\n",
    "result = is_tuple_palindrome(my_tuple)\n",
    "print(result)  # This will print True because (1, 2, 3, 2, 1) is a palindrome.\n"
   ]
  },
  {
   "cell_type": "code",
   "execution_count": 25,
   "id": "efce0461-a30d-4273-940d-7e791526bc89",
   "metadata": {},
   "outputs": [],
   "source": [
    "# 34. Create a tuple of squares of numbers from 1 to 5."
   ]
  },
  {
   "cell_type": "code",
   "execution_count": 26,
   "id": "59ba6842-36a5-4143-9079-6a19cf7a507f",
   "metadata": {},
   "outputs": [
    {
     "name": "stdout",
     "output_type": "stream",
     "text": [
      "(1, 4, 9, 16, 25)\n"
     ]
    }
   ],
   "source": [
    "# Create a tuple of squares of numbers from 1 to 5\n",
    "squares_tuple = tuple(x ** 2 for x in range(1, 6))\n",
    "\n",
    "# Print the tuple\n",
    "print(squares_tuple)\n"
   ]
  },
  {
   "cell_type": "code",
   "execution_count": 28,
   "id": "f7208b70-6883-49b7-9839-15c33bc092e2",
   "metadata": {},
   "outputs": [],
   "source": [
    "# 35. Filter out all even numbers from a tuple."
   ]
  },
  {
   "cell_type": "code",
   "execution_count": 29,
   "id": "9fa772ac-0c8e-4538-8871-ece7822c5e1e",
   "metadata": {},
   "outputs": [
    {
     "name": "stdout",
     "output_type": "stream",
     "text": [
      "(1, 3, 5, 7, 9)\n"
     ]
    }
   ],
   "source": [
    "# Original tuple\n",
    "original_tuple = (1, 2, 3, 4, 5, 6, 7, 8, 9, 10)\n",
    "\n",
    "# Create a new tuple with only odd numbers\n",
    "filtered_tuple = tuple(x for x in original_tuple if x % 2 != 0)\n",
    "\n",
    "# Print the filtered tuple\n",
    "print(filtered_tuple)\n"
   ]
  },
  {
   "cell_type": "code",
   "execution_count": 30,
   "id": "24024d96-7344-45c9-ad84-9f82d8295c17",
   "metadata": {},
   "outputs": [],
   "source": [
    "# Multiply all elements in a tuple by 2."
   ]
  },
  {
   "cell_type": "code",
   "execution_count": 31,
   "id": "42ee381b-2863-4c49-9f6d-8c10cf1c03c7",
   "metadata": {},
   "outputs": [
    {
     "name": "stdout",
     "output_type": "stream",
     "text": [
      "(2, 4, 6, 8, 10)\n"
     ]
    }
   ],
   "source": [
    "# Original tuple\n",
    "original_tuple = (1, 2, 3, 4, 5)\n",
    "\n",
    "# Create a new tuple with elements multiplied by 2\n",
    "doubled_tuple = tuple(x * 2 for x in original_tuple)\n",
    "\n",
    "# Print the doubled tuple\n",
    "print(doubled_tuple)\n"
   ]
  },
  {
   "cell_type": "code",
   "execution_count": 32,
   "id": "d1109b05-39f4-4cfd-8043-3aea1ad82bc5",
   "metadata": {},
   "outputs": [],
   "source": [
    "# 37. Create a tuple of random numbers."
   ]
  },
  {
   "cell_type": "code",
   "execution_count": 33,
   "id": "1b3cd070-0f8b-45b5-b55d-e4bc87ca109d",
   "metadata": {},
   "outputs": [
    {
     "name": "stdout",
     "output_type": "stream",
     "text": [
      "(37, 45, 47, 7, 7)\n"
     ]
    }
   ],
   "source": [
    "import random\n",
    "\n",
    "# Create a tuple of 5 random numbers between 1 and 100\n",
    "random_tuple = tuple(random.randint(1, 100) for _ in range(5))\n",
    "\n",
    "# Print the random tuple\n",
    "print(random_tuple)\n"
   ]
  },
  {
   "cell_type": "code",
   "execution_count": 34,
   "id": "7839c978-4b8b-414c-ba81-75b292b97b0c",
   "metadata": {},
   "outputs": [],
   "source": [
    "# 38. Check if a tuple is sorted."
   ]
  },
  {
   "cell_type": "code",
   "execution_count": 35,
   "id": "6d62b2c7-30cb-4de3-ab70-92bad27af01b",
   "metadata": {},
   "outputs": [
    {
     "name": "stdout",
     "output_type": "stream",
     "text": [
      "True\n",
      "False\n"
     ]
    }
   ],
   "source": [
    "def is_tuple_sorted(input_tuple):\n",
    "    for i in range(len(input_tuple) - 1):\n",
    "        if input_tuple[i] > input_tuple[i + 1]:\n",
    "            return False\n",
    "    return True\n",
    "\n",
    "# Example usage:\n",
    "sorted_tuple = (1, 2, 3, 4, 5)\n",
    "unsorted_tuple = (5, 3, 1, 2, 4)\n",
    "\n",
    "print(is_tuple_sorted(sorted_tuple))  # This will print True\n",
    "print(is_tuple_sorted(unsorted_tuple))  # This will print False\n"
   ]
  },
  {
   "cell_type": "code",
   "execution_count": 36,
   "id": "1aa4cf84-447a-4368-87ac-870ba7e07bdd",
   "metadata": {},
   "outputs": [],
   "source": [
    "# 39. Rotate a tuple to the left by `n` positions."
   ]
  },
  {
   "cell_type": "code",
   "execution_count": 37,
   "id": "5c18e0df-484c-4638-bb5b-4f2b2bfa83df",
   "metadata": {},
   "outputs": [
    {
     "name": "stdout",
     "output_type": "stream",
     "text": [
      "(3, 4, 5, 1, 2)\n"
     ]
    }
   ],
   "source": [
    "def rotate_tuple_left(input_tuple, n):\n",
    "    # Calculate the effective rotation amount (taking into account overflow)\n",
    "    n = n % len(input_tuple)\n",
    "    \n",
    "    # Create a new tuple by slicing and rearranging elements\n",
    "    rotated_tuple = input_tuple[n:] + input_tuple[:n]\n",
    "    \n",
    "    return rotated_tuple\n",
    "\n",
    "# Example usage:\n",
    "original_tuple = (1, 2, 3, 4, 5)\n",
    "n = 2\n",
    "rotated = rotate_tuple_left(original_tuple, n)\n",
    "print(rotated)\n"
   ]
  },
  {
   "cell_type": "code",
   "execution_count": 39,
   "id": "4e0085bf-b5d2-4dcc-a5ac-27d57e3cf2f6",
   "metadata": {},
   "outputs": [],
   "source": [
    "# 40. Rotate a tuple to the right by `n` positions."
   ]
  },
  {
   "cell_type": "code",
   "execution_count": 38,
   "id": "67d18418-d5c9-4c3a-8860-ae43d39ed663",
   "metadata": {},
   "outputs": [
    {
     "name": "stdout",
     "output_type": "stream",
     "text": [
      "(4, 5, 1, 2, 3)\n"
     ]
    }
   ],
   "source": [
    "def rotate_tuple_right(input_tuple, n):\n",
    "    # Calculate the effective rotation amount (taking into account overflow)\n",
    "    n = n % len(input_tuple)\n",
    "    \n",
    "    # Create a new tuple by slicing and rearranging elements\n",
    "    rotated_tuple = input_tuple[-n:] + input_tuple[:-n]\n",
    "    \n",
    "    return rotated_tuple\n",
    "\n",
    "# Example usage:\n",
    "original_tuple = (1, 2, 3, 4, 5)\n",
    "n = 2\n",
    "rotated = rotate_tuple_right(original_tuple, n)\n",
    "print(rotated)\n"
   ]
  },
  {
   "cell_type": "code",
   "execution_count": 40,
   "id": "5e53faec-7dd6-4d6c-8ed1-846d23d54af4",
   "metadata": {},
   "outputs": [],
   "source": [
    "# 41. Create a tuple of the first 5 Fibonacci numbers."
   ]
  },
  {
   "cell_type": "code",
   "execution_count": 41,
   "id": "57609d62-1d4c-4689-86fb-6e14bf6de1e0",
   "metadata": {},
   "outputs": [
    {
     "name": "stdout",
     "output_type": "stream",
     "text": [
      "(0, 1, 1, 2, 3)\n"
     ]
    }
   ],
   "source": [
    "# Function to generate the first n Fibonacci numbers\n",
    "def generate_fibonacci(n):\n",
    "    fibonacci = [0, 1]  # Initialize with the first two Fibonacci numbers\n",
    "\n",
    "    while len(fibonacci) < n:\n",
    "        next_fib = fibonacci[-1] + fibonacci[-2]\n",
    "        fibonacci.append(next_fib)\n",
    "\n",
    "    return fibonacci\n",
    "\n",
    "# Create a tuple of the first 5 Fibonacci numbers\n",
    "first_5_fibonacci = tuple(generate_fibonacci(5))\n",
    "\n",
    "# Print the tuple\n",
    "print(first_5_fibonacci)\n"
   ]
  },
  {
   "cell_type": "code",
   "execution_count": 42,
   "id": "689a6535-941a-46b3-9d15-3a158e0a93bf",
   "metadata": {},
   "outputs": [],
   "source": [
    "# 42. Create a tuple from user input."
   ]
  },
  {
   "cell_type": "code",
   "execution_count": 44,
   "id": "79073a81-ef22-4f26-8108-181674a422dd",
   "metadata": {},
   "outputs": [
    {
     "name": "stdin",
     "output_type": "stream",
     "text": [
      "Enter elements separated by spaces:  ayush dixit\n"
     ]
    },
    {
     "name": "stdout",
     "output_type": "stream",
     "text": [
      "('ayush', 'dixit')\n"
     ]
    }
   ],
   "source": [
    "# Prompt the user for input and split it into elements\n",
    "user_input = input(\"Enter elements separated by spaces: \")\n",
    "input_elements = user_input.split()\n",
    "\n",
    "# Convert the input elements to a tuple\n",
    "user_tuple = tuple(input_elements)\n",
    "\n",
    "# Print the resulting tuple\n",
    "print(user_tuple)\n"
   ]
  },
  {
   "cell_type": "code",
   "execution_count": 45,
   "id": "37c25e3e-4c23-4b16-aaa8-3ec14fa5adf2",
   "metadata": {},
   "outputs": [],
   "source": [
    "# 43. Swap two elements in a tuple."
   ]
  },
  {
   "cell_type": "code",
   "execution_count": 46,
   "id": "a7887141-16dd-4cb1-a051-808412bfd002",
   "metadata": {},
   "outputs": [
    {
     "name": "stdout",
     "output_type": "stream",
     "text": [
      "(1, 2, 5, 4, 3)\n"
     ]
    }
   ],
   "source": [
    "# Original tuple\n",
    "original_tuple = (1, 2, 3, 4, 5)\n",
    "\n",
    "# Indices of the elements you want to swap\n",
    "index1 = 2\n",
    "index2 = 4\n",
    "\n",
    "# Convert the tuple to a list to make the swap\n",
    "temp_list = list(original_tuple)\n",
    "\n",
    "# Swap the elements at the specified indices\n",
    "temp_list[index1], temp_list[index2] = temp_list[index2], temp_list[index1]\n",
    "\n",
    "# Create a new tuple from the modified list\n",
    "swapped_tuple = tuple(temp_list)\n",
    "\n",
    "# Print the swapped tuple\n",
    "print(swapped_tuple)\n"
   ]
  },
  {
   "cell_type": "code",
   "execution_count": 47,
   "id": "bbb235cd-9d30-4d11-9f00-a4ef2dc86eca",
   "metadata": {},
   "outputs": [],
   "source": [
    "# 44. Reverse the elements of a tuple."
   ]
  },
  {
   "cell_type": "code",
   "execution_count": 48,
   "id": "f9423570-7dbc-4161-a218-b5efa7889a71",
   "metadata": {},
   "outputs": [
    {
     "name": "stdout",
     "output_type": "stream",
     "text": [
      "(5, 4, 3, 2, 1)\n"
     ]
    }
   ],
   "source": [
    "# Original tuple\n",
    "original_tuple = (1, 2, 3, 4, 5)\n",
    "\n",
    "# Create a new tuple with reversed elements\n",
    "reversed_tuple = tuple(reversed(original_tuple))\n",
    "\n",
    "# Print the reversed tuple\n",
    "print(reversed_tuple)\n"
   ]
  },
  {
   "cell_type": "code",
   "execution_count": 49,
   "id": "fa9c3351-148c-4629-8595-fc356fbe2b31",
   "metadata": {},
   "outputs": [],
   "source": [
    "# 45. Create a tuple of the first `n` powers of 2."
   ]
  },
  {
   "cell_type": "code",
   "execution_count": 50,
   "id": "d695fce8-e6a8-431a-b5f8-49011089f635",
   "metadata": {},
   "outputs": [
    {
     "name": "stdout",
     "output_type": "stream",
     "text": [
      "(1, 2, 4, 8, 16)\n"
     ]
    }
   ],
   "source": [
    "def powers_of_2(n):\n",
    "    powers_tuple = tuple(2 ** i for i in range(n))\n",
    "    return powers_tuple\n",
    "\n",
    "# Example usage:\n",
    "n = 5  # You can change this to the number of powers you want\n",
    "result = powers_of_2(n)\n",
    "print(result)\n"
   ]
  },
  {
   "cell_type": "code",
   "execution_count": 51,
   "id": "24131577-75e7-4fd4-911f-257daede6248",
   "metadata": {},
   "outputs": [],
   "source": [
    "# 46. Find the longest string in a tuple of strings."
   ]
  },
  {
   "cell_type": "code",
   "execution_count": 52,
   "id": "fa1fed5c-3177-496d-90b6-ada2f8f57e6d",
   "metadata": {},
   "outputs": [
    {
     "name": "stdout",
     "output_type": "stream",
     "text": [
      "elderberry\n"
     ]
    }
   ],
   "source": [
    "def longest_string_in_tuple(strings_tuple):\n",
    "    if not strings_tuple:\n",
    "        return None  # Return None for an empty tuple\n",
    "\n",
    "    longest = strings_tuple[0]  # Initialize with the first string\n",
    "\n",
    "    for string in strings_tuple:\n",
    "        if len(string) > len(longest):\n",
    "            longest = string\n",
    "\n",
    "    return longest\n",
    "\n",
    "# Example usage:\n",
    "my_tuple = (\"apple\", \"banana\", \"cherry\", \"date\", \"elderberry\")\n",
    "longest = longest_string_in_tuple(my_tuple)\n",
    "print(longest)\n"
   ]
  },
  {
   "cell_type": "code",
   "execution_count": 53,
   "id": "8aca97c2-073d-4228-b7c7-66e461e5df80",
   "metadata": {},
   "outputs": [],
   "source": [
    "# 47. Find the shortest string in a tuple of strings."
   ]
  },
  {
   "cell_type": "code",
   "execution_count": 54,
   "id": "4e1ca368-ea95-4d42-8522-1acf97bf496f",
   "metadata": {},
   "outputs": [
    {
     "name": "stdout",
     "output_type": "stream",
     "text": [
      "date\n"
     ]
    }
   ],
   "source": [
    "def shortest_string_in_tuple(strings_tuple):\n",
    "    if not strings_tuple:\n",
    "        return None  # Return None for an empty tuple\n",
    "\n",
    "    shortest = strings_tuple[0]  # Initialize with the first string\n",
    "\n",
    "    for string in strings_tuple:\n",
    "        if len(string) < len(shortest):\n",
    "            shortest = string\n",
    "\n",
    "    return shortest\n",
    "\n",
    "# Example usage:\n",
    "my_tuple = (\"apple\", \"banana\", \"cherry\", \"date\", \"elderberry\")\n",
    "shortest = shortest_string_in_tuple(my_tuple)\n",
    "print(shortest)\n"
   ]
  },
  {
   "cell_type": "code",
   "execution_count": 55,
   "id": "78f2cec4-8293-4f1c-a2e0-9f8cf487a1c9",
   "metadata": {},
   "outputs": [],
   "source": [
    "# 48. Create a tuple of the first `n` triangular numbers."
   ]
  },
  {
   "cell_type": "code",
   "execution_count": 56,
   "id": "01b592d6-7f46-4664-a781-6bf5787cc16c",
   "metadata": {},
   "outputs": [
    {
     "name": "stdout",
     "output_type": "stream",
     "text": [
      "(1, 3, 6, 10, 15)\n"
     ]
    }
   ],
   "source": [
    "def generate_triangular_numbers(n):\n",
    "    triangular_tuple = tuple((i * (i + 1)) // 2 for i in range(1, n + 1))\n",
    "    return triangular_tuple\n",
    "\n",
    "# Example usage:\n",
    "n = 5  # You can change this to the number of triangular numbers you want\n",
    "result = generate_triangular_numbers(n)\n",
    "print(result)\n"
   ]
  },
  {
   "cell_type": "code",
   "execution_count": 57,
   "id": "b152b9e3-9b6d-45a5-b4f6-12dcfb94c089",
   "metadata": {},
   "outputs": [],
   "source": [
    "# 49. Check if a tuple contains another tuple as a subsequence."
   ]
  },
  {
   "cell_type": "code",
   "execution_count": 58,
   "id": "f57b691a-88df-4199-b2f9-da9343167a68",
   "metadata": {},
   "outputs": [
    {
     "name": "stdout",
     "output_type": "stream",
     "text": [
      "True\n"
     ]
    }
   ],
   "source": [
    "def contains_subsequence(main_tuple, sub_tuple):\n",
    "    main_len = len(main_tuple)\n",
    "    sub_len = len(sub_tuple)\n",
    "\n",
    "    if sub_len == 0:\n",
    "        return True  # An empty tuple is always a subsequence\n",
    "\n",
    "    if sub_len > main_len:\n",
    "        return False  # The sub_tuple is longer than the main_tuple\n",
    "\n",
    "    for i in range(main_len - sub_len + 1):\n",
    "        if main_tuple[i:i + sub_len] == sub_tuple:\n",
    "            return True  # Found a matching subsequence\n",
    "\n",
    "    return False  # No matching subsequence found\n",
    "\n",
    "# Example usage:\n",
    "main_tuple = (1, 2, 3, 4, 5, 6, 7, 8, 9)\n",
    "sub_tuple = (3, 4, 5)\n",
    "result = contains_subsequence(main_tuple, sub_tuple)\n",
    "print(result)  # This will print True because (3, 4, 5) is a subsequence of (1, 2, 3, 4, 5, 6, 7, 8, 9)\n"
   ]
  },
  {
   "cell_type": "code",
   "execution_count": 59,
   "id": "9ee3d3aa-db8e-4f17-a524-bad2d3f3d13c",
   "metadata": {},
   "outputs": [],
   "source": [
    "# 50. Create a tuple of alternating 1s and 0s of length `n`."
   ]
  },
  {
   "cell_type": "code",
   "execution_count": 60,
   "id": "bdfebf6e-fcc0-435c-a63c-2766445a1658",
   "metadata": {},
   "outputs": [
    {
     "name": "stdout",
     "output_type": "stream",
     "text": [
      "(1, 0, 1, 0, 1, 0, 1, 0)\n"
     ]
    }
   ],
   "source": [
    "def alternating_ones_zeros_tuple(n):\n",
    "    # Use list comprehension to create a list of alternating 1s and 0s\n",
    "    alternating_list = [1 if i % 2 == 0 else 0 for i in range(n)]\n",
    "\n",
    "    # Convert the list to a tuple\n",
    "    alternating_tuple = tuple(alternating_list)\n",
    "\n",
    "    return alternating_tuple\n",
    "\n",
    "# Example usage:\n",
    "n = 8  # Change this to the desired length of the tuple\n",
    "result = alternating_ones_zeros_tuple(n)\n",
    "print(result)\n"
   ]
  },
  {
   "cell_type": "code",
   "execution_count": 61,
   "id": "8a769ca9-96d9-48f3-b90b-c604edb9e518",
   "metadata": {},
   "outputs": [],
   "source": [
    "# Set Based Practice Problem :"
   ]
  },
  {
   "cell_type": "code",
   "execution_count": 62,
   "id": "31a4f16a-8b65-45d8-8647-98527caf18b4",
   "metadata": {},
   "outputs": [],
   "source": [
    "# 1. Create a set with integers from 1 to 5."
   ]
  },
  {
   "cell_type": "code",
   "execution_count": 64,
   "id": "9fc7a0a5-8b8f-4fb5-97ef-971a8ce06730",
   "metadata": {},
   "outputs": [
    {
     "name": "stdout",
     "output_type": "stream",
     "text": [
      "{1, 2, 3, 4, 5}\n"
     ]
    }
   ],
   "source": [
    "a= {1, 2, 3, 4, 5}\n",
    "print(a)\n"
   ]
  },
  {
   "cell_type": "code",
   "execution_count": 65,
   "id": "34d33ac1-cca0-4ed6-b083-57d71c2a1721",
   "metadata": {},
   "outputs": [],
   "source": [
    "# 2. Add an element to a set."
   ]
  },
  {
   "cell_type": "code",
   "execution_count": 67,
   "id": "f42b7e41-f223-4bad-80a6-38eca1048757",
   "metadata": {},
   "outputs": [
    {
     "name": "stdout",
     "output_type": "stream",
     "text": [
      "{1, 2, 3, 4, 5, 6}\n"
     ]
    }
   ],
   "source": [
    "my_set = {1, 2, 3, 4, 5}  # Existing set\n",
    "my_set.add(6) # Add the element 6 to the set\n",
    "print(my_set)\n"
   ]
  },
  {
   "cell_type": "code",
   "execution_count": 68,
   "id": "e95c1f6c-57d2-40f1-ac87-fbb9572e9e27",
   "metadata": {},
   "outputs": [],
   "source": [
    "# 3. Remove an element from a set."
   ]
  },
  {
   "cell_type": "code",
   "execution_count": 69,
   "id": "a8a88653-412b-4ed2-98c5-d340032b22b1",
   "metadata": {},
   "outputs": [
    {
     "name": "stdout",
     "output_type": "stream",
     "text": [
      "{1, 2, 4, 5}\n"
     ]
    }
   ],
   "source": [
    "my_set = {1, 2, 3, 4, 5}\n",
    "my_set.remove(3)  # Removes the element 3 from the set\n",
    "print(my_set)"
   ]
  },
  {
   "cell_type": "code",
   "execution_count": 70,
   "id": "10e61a55-39ed-4296-ac6f-1c84bc9c2ecf",
   "metadata": {},
   "outputs": [],
   "source": [
    "# 4. Check if an element exists in a set."
   ]
  },
  {
   "cell_type": "code",
   "execution_count": 71,
   "id": "7b08399e-3e9d-4b82-8b16-0a7b4953d16d",
   "metadata": {},
   "outputs": [
    {
     "name": "stdout",
     "output_type": "stream",
     "text": [
      "Not all elements in {3, 6} exist in the set.\n"
     ]
    }
   ],
   "source": [
    "my_set = {1, 2, 3, 4, 5}\n",
    "elements_to_check = {3, 6}\n",
    "\n",
    "if elements_to_check.issubset(my_set):\n",
    "    print(f\"All elements in {elements_to_check} exist in the set.\")\n",
    "else:\n",
    "    print(f\"Not all elements in {elements_to_check} exist in the set.\")\n"
   ]
  },
  {
   "cell_type": "code",
   "execution_count": 72,
   "id": "2aa92697-9748-480e-b68f-5e7c56677b3d",
   "metadata": {},
   "outputs": [],
   "source": [
    "# 5. Find the length of a set without using the `len()` function."
   ]
  },
  {
   "cell_type": "code",
   "execution_count": 73,
   "id": "56a5f95a-ff2f-49da-a611-0d972c90fecd",
   "metadata": {},
   "outputs": [
    {
     "name": "stdout",
     "output_type": "stream",
     "text": [
      "The length of the set is 5.\n"
     ]
    }
   ],
   "source": [
    "my_set = {1, 2, 3, 4, 5}\n",
    "count = 0\n",
    "\n",
    "for _ in my_set:\n",
    "    count += 1\n",
    "\n",
    "print(f\"The length of the set is {count}.\")\n"
   ]
  },
  {
   "cell_type": "code",
   "execution_count": 74,
   "id": "8ad32d28-ea2a-48c6-987c-f986775f5277",
   "metadata": {},
   "outputs": [],
   "source": [
    "# 6. Clear all elements from a set."
   ]
  },
  {
   "cell_type": "code",
   "execution_count": 75,
   "id": "b78100f8-d0c6-4275-bd86-f7e14888a878",
   "metadata": {},
   "outputs": [
    {
     "name": "stdout",
     "output_type": "stream",
     "text": [
      "set()\n"
     ]
    }
   ],
   "source": [
    "my_set = {1, 2, 3, 4, 5}\n",
    "my_set.clear()  # Removes all elements from the set\n",
    "\n",
    "# Now, my_set is an empty set\n",
    "print(my_set)  # Output: set()\n"
   ]
  },
  {
   "cell_type": "code",
   "execution_count": 76,
   "id": "a23e88e6-f69e-4b12-bab5-fdae0bd1ee49",
   "metadata": {},
   "outputs": [],
   "source": [
    "# 7. Create a set of even numbers from 1 to 10."
   ]
  },
  {
   "cell_type": "code",
   "execution_count": 78,
   "id": "e63c9d25-e3f9-4085-88dc-5fff44f89cd7",
   "metadata": {},
   "outputs": [
    {
     "name": "stdout",
     "output_type": "stream",
     "text": [
      "{2, 4, 6, 8, 10}\n"
     ]
    }
   ],
   "source": [
    "even_numbers = {x for x in range(1, 11) if x % 2 == 0}\n",
    "print(even_numbers)\n"
   ]
  },
  {
   "cell_type": "code",
   "execution_count": 79,
   "id": "9f36d856-c017-4e80-9c74-485fd9bc9117",
   "metadata": {},
   "outputs": [],
   "source": [
    "# 8. Create a set of odd numbers from 1 to 10."
   ]
  },
  {
   "cell_type": "code",
   "execution_count": 80,
   "id": "365fdabe-9e68-4926-a76f-98737aafd275",
   "metadata": {},
   "outputs": [
    {
     "name": "stdout",
     "output_type": "stream",
     "text": [
      "{1, 3, 5, 7, 9}\n"
     ]
    }
   ],
   "source": [
    "odd_numbers = {x for x in range(1, 11) if x % 2 != 0}\n",
    "print(odd_numbers)"
   ]
  },
  {
   "cell_type": "code",
   "execution_count": 82,
   "id": "f3e02480-23b4-44f7-95f0-f45593487736",
   "metadata": {},
   "outputs": [],
   "source": [
    "# 9. Find the union of two sets."
   ]
  },
  {
   "cell_type": "code",
   "execution_count": 83,
   "id": "b742e8f6-bcf3-4a68-97be-24359ebe9401",
   "metadata": {},
   "outputs": [
    {
     "name": "stdout",
     "output_type": "stream",
     "text": [
      "{1, 2, 3, 4, 5, 6}\n"
     ]
    }
   ],
   "source": [
    "set1 = {1, 2, 3, 4}\n",
    "set2 = {3, 4, 5, 6}\n",
    "\n",
    "union_set = set1 | set2\n",
    "\n",
    "print(union_set)\n"
   ]
  },
  {
   "cell_type": "code",
   "execution_count": 84,
   "id": "9febe3ae-826a-4433-80ef-c89f250419a2",
   "metadata": {},
   "outputs": [],
   "source": [
    "# 10. Find the intersection of two sets."
   ]
  },
  {
   "cell_type": "code",
   "execution_count": 85,
   "id": "45966443-e840-4796-a97c-80dd58f84474",
   "metadata": {},
   "outputs": [
    {
     "name": "stdout",
     "output_type": "stream",
     "text": [
      "{3, 4}\n"
     ]
    }
   ],
   "source": [
    "set1 = {1, 2, 3, 4}\n",
    "set2 = {3, 4, 5, 6}\n",
    "\n",
    "intersection_set = set1.intersection(set2)\n",
    "\n",
    "print(intersection_set)\n"
   ]
  },
  {
   "cell_type": "code",
   "execution_count": 86,
   "id": "be0a7914-600b-418b-8801-ae207dc8ed55",
   "metadata": {},
   "outputs": [],
   "source": [
    "# 11. Find the difference between two sets."
   ]
  },
  {
   "cell_type": "code",
   "execution_count": 87,
   "id": "003c3709-df3e-4a88-940c-f02c78087e2c",
   "metadata": {},
   "outputs": [
    {
     "name": "stdout",
     "output_type": "stream",
     "text": [
      "{1, 2}\n"
     ]
    }
   ],
   "source": [
    "set1 = {1, 2, 3, 4}\n",
    "set2 = {3, 4, 5, 6}\n",
    "\n",
    "difference_set = set1 - set2\n",
    "\n",
    "print(difference_set)\n"
   ]
  },
  {
   "cell_type": "code",
   "execution_count": 88,
   "id": "ceedee10-8d57-403f-8893-0ef4c218838f",
   "metadata": {},
   "outputs": [],
   "source": [
    "# 12. Check if a set is a subset of another set."
   ]
  },
  {
   "cell_type": "code",
   "execution_count": 89,
   "id": "7786444d-1351-45eb-ab32-f28f8d5be797",
   "metadata": {},
   "outputs": [
    {
     "name": "stdout",
     "output_type": "stream",
     "text": [
      "set2 is a subset of set1.\n"
     ]
    }
   ],
   "source": [
    "set1 = {1, 2, 3, 4, 5}\n",
    "set2 = {2, 3}\n",
    "\n",
    "# Check if set2 is a subset of set1\n",
    "is_subset = set2.issubset(set1)\n",
    "\n",
    "if is_subset:\n",
    "    print(\"set2 is a subset of set1.\")\n",
    "else:\n",
    "    print(\"set2 is not a subset of set1.\")\n"
   ]
  },
  {
   "cell_type": "code",
   "execution_count": 90,
   "id": "e4be57b2-ad61-4e93-ab00-f930479a7a2e",
   "metadata": {},
   "outputs": [],
   "source": [
    "# 13. Check if a set is a superset of another set."
   ]
  },
  {
   "cell_type": "code",
   "execution_count": 91,
   "id": "9c8fdc92-402e-40e1-a1cf-daf167a3a0eb",
   "metadata": {},
   "outputs": [
    {
     "name": "stdout",
     "output_type": "stream",
     "text": [
      "set1 is a superset of set2.\n"
     ]
    }
   ],
   "source": [
    "set1 = {1, 2, 3, 4, 5}\n",
    "set2 = {2, 3}\n",
    "\n",
    "# Check if set1 is a superset of set2\n",
    "is_superset = set1 >= set2\n",
    "\n",
    "if is_superset:\n",
    "    print(\"set1 is a superset of set2.\")\n",
    "else:\n",
    "    print(\"set1 is not a superset of set2.\")\n"
   ]
  },
  {
   "cell_type": "code",
   "execution_count": 92,
   "id": "1c3bac7d-d7fe-4a73-9d39-6ea1bac011ad",
   "metadata": {},
   "outputs": [],
   "source": [
    "# 14. Create a set from a list."
   ]
  },
  {
   "cell_type": "code",
   "execution_count": 93,
   "id": "c31c7728-aa10-4496-b881-3b7a07e6619c",
   "metadata": {},
   "outputs": [
    {
     "name": "stdout",
     "output_type": "stream",
     "text": [
      "{1, 2, 3, 4, 5}\n"
     ]
    }
   ],
   "source": [
    "my_list = [1, 2, 3, 4, 5]\n",
    "my_set = set(my_list)\n",
    "print(my_set)"
   ]
  },
  {
   "cell_type": "code",
   "execution_count": 94,
   "id": "5ba66691-6702-4c01-9d33-70fdd0988368",
   "metadata": {},
   "outputs": [],
   "source": [
    "# 15. Convert a set to a list.\n"
   ]
  },
  {
   "cell_type": "code",
   "execution_count": 95,
   "id": "b4392070-0560-4433-8356-189dece9d495",
   "metadata": {},
   "outputs": [
    {
     "name": "stdout",
     "output_type": "stream",
     "text": [
      "[1, 2, 3, 4, 5]\n"
     ]
    }
   ],
   "source": [
    "my_set = {1, 2, 3, 4, 5}\n",
    "my_list = list(my_set)\n",
    "print(my_list)"
   ]
  },
  {
   "cell_type": "code",
   "execution_count": 96,
   "id": "1cdc8028-3ccf-493b-9269-a7be3d82e01a",
   "metadata": {},
   "outputs": [],
   "source": [
    "# 16. Remove a random element from a set."
   ]
  },
  {
   "cell_type": "code",
   "execution_count": 98,
   "id": "ec324edd-5cd3-48c2-b5ed-1ef9d8c830f3",
   "metadata": {},
   "outputs": [
    {
     "name": "stdout",
     "output_type": "stream",
     "text": [
      "Removed element: 1\n",
      "Updated set: {2, 3, 4, 5}\n"
     ]
    }
   ],
   "source": [
    "import random\n",
    "\n",
    "my_set = {1, 2, 3, 4, 5}\n",
    "\n",
    "# Convert the set to a list to get a random element\n",
    "my_list = list(my_set)\n",
    "\n",
    "# Use random.choice() to select a random element from the list\n",
    "random_element = random.choice(my_list)\n",
    "\n",
    "# Remove the selected random element from the set\n",
    "my_set.remove(random_element)\n",
    "\n",
    "print(f\"Removed element: {random_element}\")\n",
    "print(f\"Updated set: {my_set}\")\n"
   ]
  },
  {
   "cell_type": "code",
   "execution_count": 99,
   "id": "d1a23e2a-83d3-4917-b283-3d2058ca821c",
   "metadata": {},
   "outputs": [],
   "source": [
    "# 17. Pop an element from a set."
   ]
  },
  {
   "cell_type": "code",
   "execution_count": 100,
   "id": "706aabae-d8c6-45c8-bb6d-afaa426be446",
   "metadata": {},
   "outputs": [
    {
     "name": "stdout",
     "output_type": "stream",
     "text": [
      "Popped element: 1\n",
      "Updated set: {2, 3, 4, 5}\n"
     ]
    }
   ],
   "source": [
    "my_set = {1, 2, 3, 4, 5}\n",
    "\n",
    "# Pop an element from the set\n",
    "popped_element = my_set.pop()\n",
    "\n",
    "print(f\"Popped element: {popped_element}\")\n",
    "print(f\"Updated set: {my_set}\")\n"
   ]
  },
  {
   "cell_type": "code",
   "execution_count": 101,
   "id": "5f52e559-1bc6-4e17-bf90-1e3670eca0c9",
   "metadata": {},
   "outputs": [],
   "source": [
    "# 18. Check if two sets have no elements in common."
   ]
  },
  {
   "cell_type": "code",
   "execution_count": 102,
   "id": "9055c8d1-d7b4-449a-bad5-d373b5c7b321",
   "metadata": {},
   "outputs": [
    {
     "name": "stdout",
     "output_type": "stream",
     "text": [
      "The sets have no elements in common.\n"
     ]
    }
   ],
   "source": [
    "set1 = {1, 2, 3, 4}\n",
    "set2 = {5, 6, 7}\n",
    "\n",
    "# Check if set1 and set2 have no elements in common\n",
    "are_disjoint = set1.isdisjoint(set2)\n",
    "\n",
    "if are_disjoint:\n",
    "    print(\"The sets have no elements in common.\")\n",
    "else:\n",
    "    print(\"The sets have elements in common.\")\n"
   ]
  },
  {
   "cell_type": "code",
   "execution_count": 103,
   "id": "4ba4f705-94e6-4d20-86e0-22a845d2e735",
   "metadata": {},
   "outputs": [],
   "source": [
    "# 19. Find the symmetric difference between two sets."
   ]
  },
  {
   "cell_type": "code",
   "execution_count": 104,
   "id": "f179ed15-039c-4a0a-a954-3c564f4b9eaf",
   "metadata": {},
   "outputs": [
    {
     "name": "stdout",
     "output_type": "stream",
     "text": [
      "{1, 2, 5, 6}\n"
     ]
    }
   ],
   "source": [
    "set1 = {1, 2, 3, 4}\n",
    "set2 = {3, 4, 5, 6}\n",
    "\n",
    "symmetric_difference_set = set1.symmetric_difference(set2)\n",
    "\n",
    "print(symmetric_difference_set)\n"
   ]
  },
  {
   "cell_type": "code",
   "execution_count": 105,
   "id": "8f4278b0-a743-4185-9c83-63c3135356ac",
   "metadata": {},
   "outputs": [],
   "source": [
    "# 20. Update a set with elements from another set."
   ]
  },
  {
   "cell_type": "code",
   "execution_count": 106,
   "id": "f4991157-517a-440f-b74f-231a5cb4e8d7",
   "metadata": {},
   "outputs": [
    {
     "name": "stdout",
     "output_type": "stream",
     "text": [
      "{1, 2, 3, 4, 5}\n"
     ]
    }
   ],
   "source": [
    "set1 = {1, 2, 3}\n",
    "set2 = {3, 4, 5}\n",
    "\n",
    "# Update set1 with elements from set2\n",
    "set1.update(set2)\n",
    "\n",
    "print(set1)\n"
   ]
  },
  {
   "cell_type": "code",
   "execution_count": 107,
   "id": "00db184f-b0e1-4fbe-acc2-811a76c3988d",
   "metadata": {},
   "outputs": [],
   "source": [
    "# 21. Create a set of the first 5 prime numbers.\n"
   ]
  },
  {
   "cell_type": "code",
   "execution_count": 110,
   "id": "9683b6aa-6a99-417e-b4b7-4f0a5600074b",
   "metadata": {},
   "outputs": [
    {
     "name": "stdout",
     "output_type": "stream",
     "text": [
      "{2, 3, 5, 7, 11}\n"
     ]
    }
   ],
   "source": [
    "prime_numbers = {2, 3, 5, 7, 11}\n",
    "print(prime_numbers)"
   ]
  },
  {
   "cell_type": "code",
   "execution_count": 111,
   "id": "75508485-12e6-4946-b706-6ec02e188944",
   "metadata": {},
   "outputs": [],
   "source": [
    "# 22. Check if two sets are identical."
   ]
  },
  {
   "cell_type": "code",
   "execution_count": 112,
   "id": "e7951957-41e1-433d-bb6f-669f50846416",
   "metadata": {},
   "outputs": [
    {
     "name": "stdout",
     "output_type": "stream",
     "text": [
      "The sets are identical.\n"
     ]
    }
   ],
   "source": [
    "set1 = {1, 2, 3, 4, 5}\n",
    "set2 = {5, 4, 3, 2, 1}\n",
    "\n",
    "if set1 == set2:\n",
    "    print(\"The sets are identical.\")\n",
    "else:\n",
    "    print(\"The sets are not identical.\")\n"
   ]
  },
  {
   "cell_type": "code",
   "execution_count": 113,
   "id": "ec3533e3-8ac0-4fe6-b153-186ce303c1bf",
   "metadata": {},
   "outputs": [],
   "source": [
    "# 23. Create a frozen set."
   ]
  },
  {
   "cell_type": "code",
   "execution_count": 114,
   "id": "713760e7-3566-400b-88f2-5c6cdf1da2d0",
   "metadata": {},
   "outputs": [
    {
     "name": "stdout",
     "output_type": "stream",
     "text": [
      "frozenset({1, 2, 3, 4, 5})\n"
     ]
    }
   ],
   "source": [
    "my_set = {1, 2, 3, 4, 5}\n",
    "my_frozen_set = frozenset(my_set)\n",
    "print(my_frozen_set)"
   ]
  },
  {
   "cell_type": "code",
   "execution_count": 115,
   "id": "cf2fed5d-f752-4022-ae93-fb2a640e5073",
   "metadata": {},
   "outputs": [],
   "source": [
    "# 24. Check if a set is disjoint with another set."
   ]
  },
  {
   "cell_type": "code",
   "execution_count": 116,
   "id": "0c5ddfe7-c32f-4243-87d1-07dc4bbe8a39",
   "metadata": {},
   "outputs": [
    {
     "name": "stdout",
     "output_type": "stream",
     "text": [
      "The sets are disjoint (have no common elements).\n"
     ]
    }
   ],
   "source": [
    "set1 = {1, 2, 3}\n",
    "set2 = {4, 5, 6}\n",
    "\n",
    "# Check if set1 and set2 are disjoint\n",
    "are_disjoint = set1.isdisjoint(set2)\n",
    "\n",
    "if are_disjoint:\n",
    "    print(\"The sets are disjoint (have no common elements).\")\n",
    "else:\n",
    "    print(\"The sets are not disjoint (have common elements).\")\n"
   ]
  },
  {
   "cell_type": "code",
   "execution_count": 117,
   "id": "9a740fd5-1e14-43da-be85-7be7a23f259f",
   "metadata": {},
   "outputs": [],
   "source": [
    "# 25. Create a set of squares of numbers from 1 to 5."
   ]
  },
  {
   "cell_type": "code",
   "execution_count": 118,
   "id": "0e601fa3-ac49-4fba-a0f6-357a72c102a1",
   "metadata": {},
   "outputs": [
    {
     "name": "stdout",
     "output_type": "stream",
     "text": [
      "{1, 4, 9, 16, 25}\n"
     ]
    }
   ],
   "source": [
    "squares_set = {x ** 2 for x in range(1, 6)}\n",
    "print(squares_set)"
   ]
  },
  {
   "cell_type": "code",
   "execution_count": 119,
   "id": "5b5f25b7-7370-4a9d-9c96-7f2feb30bacd",
   "metadata": {},
   "outputs": [],
   "source": [
    "# 26. Filter out all even numbers from a set."
   ]
  },
  {
   "cell_type": "code",
   "execution_count": 121,
   "id": "d1ee328e-f7b5-425e-beb4-2c175e267376",
   "metadata": {},
   "outputs": [
    {
     "name": "stdout",
     "output_type": "stream",
     "text": [
      "{1, 3, 5, 7, 9}\n"
     ]
    }
   ],
   "source": [
    "original_set = {1, 2, 3, 4, 5, 6, 7, 8, 9, 10}\n",
    "\n",
    "filtered_set = {x for x in original_set if x % 2 != 0}\n",
    "print(filtered_set)"
   ]
  },
  {
   "cell_type": "code",
   "execution_count": 122,
   "id": "f968a4dc-2d1b-4c8d-a0aa-394892ef255a",
   "metadata": {},
   "outputs": [],
   "source": [
    "# 27. Multiply all elements in a set by 2."
   ]
  },
  {
   "cell_type": "code",
   "execution_count": 123,
   "id": "0625aa34-caed-4564-bfd9-8f12c406abf8",
   "metadata": {},
   "outputs": [
    {
     "name": "stdout",
     "output_type": "stream",
     "text": [
      "{2, 4, 6, 8, 10}\n"
     ]
    }
   ],
   "source": [
    "original_set = {1, 2, 3, 4, 5}\n",
    "\n",
    "# Convert the set to a list\n",
    "list_from_set = list(original_set)\n",
    "\n",
    "# Multiply all elements in the list by 2\n",
    "list_result = [x * 2 for x in list_from_set]\n",
    "\n",
    "# Convert the list back to a set\n",
    "result_set = set(list_result)\n",
    "\n",
    "print(result_set)\n"
   ]
  },
  {
   "cell_type": "code",
   "execution_count": 124,
   "id": "1b88c17a-da95-41ed-b6ed-6cf53d07527a",
   "metadata": {},
   "outputs": [],
   "source": [
    "# 28. Create a set of random numbers."
   ]
  },
  {
   "cell_type": "code",
   "execution_count": 125,
   "id": "f0efdf43-ed3f-4399-828b-f3590239aa19",
   "metadata": {},
   "outputs": [
    {
     "name": "stdout",
     "output_type": "stream",
     "text": [
      "{34, 35, 67, 70, 7, 8, 77, 45, 52, 55}\n"
     ]
    }
   ],
   "source": [
    "import random\n",
    "\n",
    "# Create an empty set\n",
    "random_set = set()\n",
    "\n",
    "# Generate and add random numbers to the set\n",
    "for _ in range(10):  # You can change 10 to the number of random numbers you want\n",
    "    random_number = random.randint(1, 100)  # Generate a random number between 1 and 100 (you can adjust the range)\n",
    "    random_set.add(random_number)\n",
    "\n",
    "print(random_set)\n"
   ]
  },
  {
   "cell_type": "code",
   "execution_count": 126,
   "id": "2505a581-3795-425a-adc8-7bd5ec73deec",
   "metadata": {},
   "outputs": [],
   "source": [
    "# 29. Check if a set is empty."
   ]
  },
  {
   "cell_type": "code",
   "execution_count": 127,
   "id": "6d8f20e2-0a32-4a73-b97b-203385b94304",
   "metadata": {},
   "outputs": [
    {
     "name": "stdout",
     "output_type": "stream",
     "text": [
      "The set is empty.\n"
     ]
    }
   ],
   "source": [
    "my_set = set()  # Create an empty set\n",
    "\n",
    "if not my_set:\n",
    "    print(\"The set is empty.\")\n",
    "else:\n",
    "    print(\"The set is not empty.\")\n"
   ]
  },
  {
   "cell_type": "code",
   "execution_count": 128,
   "id": "eb9a6ef2-efa5-42ec-8955-d44618753490",
   "metadata": {},
   "outputs": [],
   "source": [
    "# 30. Create a nested set (hint: use frozenset)."
   ]
  },
  {
   "cell_type": "code",
   "execution_count": 129,
   "id": "817eac24-3613-4c34-8805-5fe963500107",
   "metadata": {},
   "outputs": [
    {
     "name": "stdout",
     "output_type": "stream",
     "text": [
      "frozenset({frozenset({3, 4, 5}), frozenset({1, 2})})\n"
     ]
    }
   ],
   "source": [
    "z = frozenset({frozenset({1, 2}), frozenset({3, 4, 5})})\n",
    "print(z)"
   ]
  },
  {
   "cell_type": "code",
   "execution_count": 130,
   "id": "da10d268-5041-433e-a604-8ecc31cafda9",
   "metadata": {},
   "outputs": [],
   "source": [
    "# 31. Remove an element from a set using the discard method."
   ]
  },
  {
   "cell_type": "code",
   "execution_count": 131,
   "id": "30a505b4-fdd5-4b2c-b97c-b94db05108ba",
   "metadata": {},
   "outputs": [
    {
     "name": "stdout",
     "output_type": "stream",
     "text": [
      "{1, 2, 4, 5}\n"
     ]
    }
   ],
   "source": [
    "my_set = {1, 2, 3, 4, 5}\n",
    "element_to_remove = 3\n",
    "\n",
    "my_set.discard(element_to_remove)\n",
    "\n",
    "print(my_set)\n"
   ]
  },
  {
   "cell_type": "code",
   "execution_count": 132,
   "id": "ad3227dd-cb01-45e7-a63d-b8c31398e8b3",
   "metadata": {},
   "outputs": [],
   "source": [
    "# 32. Compare two sets."
   ]
  },
  {
   "cell_type": "code",
   "execution_count": 133,
   "id": "c4d1332c-4c91-4e65-bf94-e120604affec",
   "metadata": {},
   "outputs": [
    {
     "name": "stdout",
     "output_type": "stream",
     "text": [
      "set2 is a subset of set1.\n"
     ]
    }
   ],
   "source": [
    "set1 = {1, 2, 3}\n",
    "set2 = {1, 2}\n",
    "\n",
    "if set2.issubset(set1):\n",
    "    print(\"set2 is a subset of set1.\")\n",
    "else:\n",
    "    print(\"set2 is not a subset of set1.\")\n"
   ]
  },
  {
   "cell_type": "code",
   "execution_count": 134,
   "id": "b944943f-2326-4fa9-92ab-6b758f112e60",
   "metadata": {},
   "outputs": [],
   "source": [
    "# 33. Create a set from a string."
   ]
  },
  {
   "cell_type": "code",
   "execution_count": 135,
   "id": "ea370021-2c95-48c2-a4b8-aa07f0112911",
   "metadata": {},
   "outputs": [
    {
     "name": "stdout",
     "output_type": "stream",
     "text": [
      "{'l', 'o', 'h', 'e'}\n"
     ]
    }
   ],
   "source": [
    "my_string = \"hello\"\n",
    "my_set = set()\n",
    "\n",
    "for char in my_string:\n",
    "    my_set.add(char)\n",
    "\n",
    "print(my_set)\n"
   ]
  },
  {
   "cell_type": "code",
   "execution_count": 136,
   "id": "3ee83818-70b6-43b9-b13c-475cb8608270",
   "metadata": {},
   "outputs": [],
   "source": [
    "# 34. Convert a set of strings to a set of integers."
   ]
  },
  {
   "cell_type": "code",
   "execution_count": 137,
   "id": "aeaac09d-b8ce-4969-81d4-e13071747356",
   "metadata": {},
   "outputs": [
    {
     "name": "stdout",
     "output_type": "stream",
     "text": [
      "{1, 2, 3, 4, 5}\n"
     ]
    }
   ],
   "source": [
    "set_of_strings = {\"1\", \"2\", \"3\", \"4\", \"5\"}\n",
    "set_of_integers = set()\n",
    "\n",
    "for string_value in set_of_strings:\n",
    "    integer_value = int(string_value)\n",
    "    set_of_integers.add(integer_value)\n",
    "\n",
    "print(set_of_integers)\n"
   ]
  },
  {
   "cell_type": "code",
   "execution_count": 138,
   "id": "5cd418c2-c272-40a3-8a65-e7e1ab93f3a0",
   "metadata": {},
   "outputs": [],
   "source": [
    "# 35. Convert a set of integers to a set of strings."
   ]
  },
  {
   "cell_type": "code",
   "execution_count": 139,
   "id": "af480bc9-a06f-44c5-8a1f-145db8d6fe0f",
   "metadata": {},
   "outputs": [
    {
     "name": "stdout",
     "output_type": "stream",
     "text": [
      "{'3', '1', '2', '5', '4'}\n"
     ]
    }
   ],
   "source": [
    "set_of_integers = {1, 2, 3, 4, 5}\n",
    "set_of_strings = set()\n",
    "\n",
    "for integer_value in set_of_integers:\n",
    "    string_value = str(integer_value)\n",
    "    set_of_strings.add(string_value)\n",
    "\n",
    "print(set_of_strings)\n"
   ]
  },
  {
   "cell_type": "code",
   "execution_count": 140,
   "id": "252de65e-5c3b-4bc7-a465-62aa4a3b7ba1",
   "metadata": {},
   "outputs": [],
   "source": [
    "# 36. Create a set from a tuple."
   ]
  },
  {
   "cell_type": "code",
   "execution_count": 141,
   "id": "400e7802-c37f-4afe-92c1-68776a5c7a35",
   "metadata": {},
   "outputs": [
    {
     "name": "stdout",
     "output_type": "stream",
     "text": [
      "{1, 2, 3, 4, 5}\n"
     ]
    }
   ],
   "source": [
    "my_tuple = (1, 2, 3, 4, 5)\n",
    "my_set = set(my_tuple)\n",
    "print(my_set)"
   ]
  },
  {
   "cell_type": "code",
   "execution_count": 143,
   "id": "495ed88f-94a0-4067-9e43-1bb701c16fd7",
   "metadata": {},
   "outputs": [],
   "source": [
    "# 37. Convert a set to a tuple."
   ]
  },
  {
   "cell_type": "code",
   "execution_count": 144,
   "id": "8eb3bd57-4899-4a91-89ef-cbb59c347989",
   "metadata": {},
   "outputs": [
    {
     "name": "stdout",
     "output_type": "stream",
     "text": [
      "(1, 2, 3, 4, 5)\n"
     ]
    }
   ],
   "source": [
    "my_set = {1, 2, 3, 4, 5}\n",
    "my_tuple = tuple(my_set)\n",
    "print(my_tuple)"
   ]
  },
  {
   "cell_type": "code",
   "execution_count": 145,
   "id": "e202c506-b6b5-4cc0-8641-9689242949d7",
   "metadata": {},
   "outputs": [],
   "source": [
    "# 38. Find the maximum value in a set."
   ]
  },
  {
   "cell_type": "code",
   "execution_count": 146,
   "id": "398e3f03-b02f-47c2-a60a-7aafc72b0e5d",
   "metadata": {},
   "outputs": [
    {
     "name": "stdout",
     "output_type": "stream",
     "text": [
      "Maximum value in the set: 5\n"
     ]
    }
   ],
   "source": [
    "my_set = {1, 2, 3, 4, 5}\n",
    "maximum_value = max(my_set)\n",
    "\n",
    "print(\"Maximum value in the set:\", maximum_value)\n"
   ]
  },
  {
   "cell_type": "code",
   "execution_count": 147,
   "id": "f54811c5-7d80-4de6-b92d-c98a6aa90d40",
   "metadata": {},
   "outputs": [],
   "source": [
    "# 39. Find the minimum value in a set."
   ]
  },
  {
   "cell_type": "code",
   "execution_count": 148,
   "id": "0dd519d8-2a8c-4a9b-8512-ed08b9c055f7",
   "metadata": {},
   "outputs": [
    {
     "name": "stdout",
     "output_type": "stream",
     "text": [
      "Minimum value in the set: 1\n"
     ]
    }
   ],
   "source": [
    "my_set = {1, 2, 3, 4, 5}\n",
    "minimum_value = min(my_set)\n",
    "\n",
    "print(\"Minimum value in the set:\", minimum_value)\n"
   ]
  },
  {
   "cell_type": "code",
   "execution_count": 149,
   "id": "2843bd2c-f952-464c-ad07-a1aa369038b2",
   "metadata": {},
   "outputs": [],
   "source": [
    "# 40. Create a set from user input."
   ]
  },
  {
   "cell_type": "code",
   "execution_count": 150,
   "id": "5175088d-3885-40da-84c2-b42afd84ea83",
   "metadata": {},
   "outputs": [
    {
     "name": "stdin",
     "output_type": "stream",
     "text": [
      "Enter an element (or 'done' to finish):  done\n"
     ]
    },
    {
     "name": "stdout",
     "output_type": "stream",
     "text": [
      "User's set: set()\n"
     ]
    }
   ],
   "source": [
    "user_set = set()  # Create an empty set\n",
    "\n",
    "while True:\n",
    "    user_input = input(\"Enter an element (or 'done' to finish): \")\n",
    "\n",
    "    if user_input.lower() == 'done':\n",
    "        break  # Exit the loop if the user enters 'done'\n",
    "    \n",
    "    user_set.add(user_input)  # Add the user's input to the set\n",
    "\n",
    "print(\"User's set:\", user_set)\n"
   ]
  },
  {
   "cell_type": "code",
   "execution_count": 151,
   "id": "df4d7a8f-a80e-4e40-9e8e-2277b724057b",
   "metadata": {},
   "outputs": [],
   "source": [
    "# 41. Check if the intersection of two sets is empty."
   ]
  },
  {
   "cell_type": "code",
   "execution_count": 152,
   "id": "e6104686-caa2-46b5-b2d7-0a57fa828aac",
   "metadata": {},
   "outputs": [
    {
     "name": "stdout",
     "output_type": "stream",
     "text": [
      "The intersection of the sets is empty.\n"
     ]
    }
   ],
   "source": [
    "set1 = {1, 2, 3}\n",
    "set2 = {4, 5, 6}\n",
    "\n",
    "if set1.isdisjoint(set2):\n",
    "    print(\"The intersection of the sets is empty.\")\n",
    "else:\n",
    "    print(\"The sets have elements in common.\")\n"
   ]
  },
  {
   "cell_type": "code",
   "execution_count": 153,
   "id": "7adef7b4-1398-4ca9-a740-6618a2e5144d",
   "metadata": {},
   "outputs": [],
   "source": [
    "# 42. Create a set of the first 5 Fibonacci numbers."
   ]
  },
  {
   "cell_type": "code",
   "execution_count": 154,
   "id": "2d2cef0c-977e-41e5-b021-7aca71e38c6b",
   "metadata": {},
   "outputs": [
    {
     "name": "stdout",
     "output_type": "stream",
     "text": [
      "{0, 1, 2, 3}\n"
     ]
    }
   ],
   "source": [
    "fibonacci_set = set()\n",
    "a, b = 0, 1\n",
    "\n",
    "for _ in range(5):\n",
    "    fibonacci_set.add(a)\n",
    "    a, b = b, a + b\n",
    "\n",
    "print(fibonacci_set)\n"
   ]
  },
  {
   "cell_type": "code",
   "execution_count": 155,
   "id": "8042d89c-1bf6-4273-ada1-cdc572d7e46b",
   "metadata": {},
   "outputs": [],
   "source": [
    "# 43. Remove duplicates from a list using sets."
   ]
  },
  {
   "cell_type": "code",
   "execution_count": 156,
   "id": "c22a8483-59c1-4919-983d-727d99962877",
   "metadata": {},
   "outputs": [
    {
     "name": "stdout",
     "output_type": "stream",
     "text": [
      "[1, 2, 3, 4, 5, 6]\n"
     ]
    }
   ],
   "source": [
    "original_list = [1, 2, 2, 3, 4, 4, 5, 6, 6]\n",
    "\n",
    "# Convert the list to a set to remove duplicates and then back to a list\n",
    "unique_list = list(set(original_list))\n",
    "\n",
    "print(unique_list)\n"
   ]
  },
  {
   "cell_type": "code",
   "execution_count": 157,
   "id": "a9d360bc-7727-4d5a-8fb6-87b12e14048c",
   "metadata": {},
   "outputs": [],
   "source": [
    "# 44. Check if two sets have the same elements, regardless of their count."
   ]
  },
  {
   "cell_type": "code",
   "execution_count": 158,
   "id": "d6695b5c-b1b8-4d6f-bbb9-dce5e9eabf5c",
   "metadata": {},
   "outputs": [
    {
     "name": "stdout",
     "output_type": "stream",
     "text": [
      "The sets have the same elements.\n"
     ]
    }
   ],
   "source": [
    "set1 = {1, 2, 3}\n",
    "set2 = {3, 2, 1}\n",
    "\n",
    "if set1 == set2:\n",
    "    print(\"The sets have the same elements.\")\n",
    "else:\n",
    "    print(\"The sets do not have the same elements.\")\n"
   ]
  },
  {
   "cell_type": "code",
   "execution_count": 159,
   "id": "51cfde34-2b8c-4823-9a65-40e5e362a24b",
   "metadata": {},
   "outputs": [],
   "source": [
    "# 45. Create a set of the first `n` powers of 2."
   ]
  },
  {
   "cell_type": "code",
   "execution_count": 160,
   "id": "012271c1-9624-483a-9326-481798ea23e2",
   "metadata": {},
   "outputs": [],
   "source": [
    "n = 5  # Replace with the number of powers of 2 you want\n",
    "powers_of_2_set = {2 ** i for i in range(n)}\n"
   ]
  },
  {
   "cell_type": "code",
   "execution_count": 161,
   "id": "9f3fcc57-667a-4459-825a-ea18ee154757",
   "metadata": {},
   "outputs": [],
   "source": [
    "# 46. Find the common elements between a set and a list."
   ]
  },
  {
   "cell_type": "code",
   "execution_count": 162,
   "id": "ced1babe-7ef9-42f9-8a10-a8e711d70848",
   "metadata": {},
   "outputs": [
    {
     "name": "stdout",
     "output_type": "stream",
     "text": [
      "Common elements: {3, 4, 5}\n"
     ]
    }
   ],
   "source": [
    "my_set = {1, 2, 3, 4, 5}\n",
    "my_list = [3, 4, 5, 6, 7]\n",
    "\n",
    "common_elements = set(my_list) & my_set\n",
    "\n",
    "print(\"Common elements:\", common_elements)\n"
   ]
  },
  {
   "cell_type": "code",
   "execution_count": 163,
   "id": "c398c4cf-5caf-490e-be92-d0cb218824c3",
   "metadata": {},
   "outputs": [],
   "source": [
    "# 47. Create a set of the first `n` triangular numbers."
   ]
  },
  {
   "cell_type": "code",
   "execution_count": 164,
   "id": "0f1a6f68-04c3-403b-995a-2d57beca132e",
   "metadata": {},
   "outputs": [
    {
     "name": "stdout",
     "output_type": "stream",
     "text": [
      "{1, 3, 6, 10, 15}\n"
     ]
    }
   ],
   "source": [
    "n = 5  # Replace with the number of triangular numbers you want\n",
    "triangular_numbers_set = {i * (i + 1) // 2 for i in range(1, n + 1)}\n",
    "print(triangular_numbers_set)"
   ]
  },
  {
   "cell_type": "code",
   "execution_count": 165,
   "id": "8d1ce4a3-078f-4572-9561-78e680a04487",
   "metadata": {},
   "outputs": [],
   "source": [
    "# 48. Check if a set contains another set as a subset."
   ]
  },
  {
   "cell_type": "code",
   "execution_count": 166,
   "id": "799f5c9b-dd2f-42ff-9dcd-881fd9e2554c",
   "metadata": {},
   "outputs": [
    {
     "name": "stdout",
     "output_type": "stream",
     "text": [
      "set2 is a subset of set1.\n"
     ]
    }
   ],
   "source": [
    "set1 = {1, 2, 3, 4, 5}\n",
    "set2 = {2, 3}\n",
    "\n",
    "if set2.issubset(set1):\n",
    "    print(\"set2 is a subset of set1.\")\n",
    "else:\n",
    "    print(\"set2 is not a subset of set1.\")\n"
   ]
  },
  {
   "cell_type": "code",
   "execution_count": 167,
   "id": "d8827e6d-2099-4d3d-bd93-2eb3c32b3494",
   "metadata": {},
   "outputs": [],
   "source": [
    "# 49. Create a set of alternating 1s and 0s of length `n`."
   ]
  },
  {
   "cell_type": "code",
   "execution_count": 168,
   "id": "f06cd342-d59f-4e35-a9d1-8cb23d380300",
   "metadata": {},
   "outputs": [
    {
     "name": "stdout",
     "output_type": "stream",
     "text": [
      "{0, 1}\n"
     ]
    }
   ],
   "source": [
    "n = 10  # Replace with the desired length of the alternating sequence\n",
    "alternating_set = {1 if i % 2 == 0 else 0 for i in range(n)}\n",
    "print(alternating_set)"
   ]
  },
  {
   "cell_type": "code",
   "execution_count": 169,
   "id": "78433420-51a2-41c5-b257-e941d5510ca7",
   "metadata": {},
   "outputs": [],
   "source": [
    "# 50. Merge multiple sets into one."
   ]
  },
  {
   "cell_type": "code",
   "execution_count": 170,
   "id": "fbd55d87-15e2-437c-9574-2710cf775024",
   "metadata": {},
   "outputs": [
    {
     "name": "stdout",
     "output_type": "stream",
     "text": [
      "{1, 2, 3, 4, 5, 6, 7}\n"
     ]
    }
   ],
   "source": [
    "set1 = {1, 2, 3}\n",
    "set2 = {3, 4, 5}\n",
    "set3 = {5, 6, 7}\n",
    "\n",
    "merged_set = set1.union(set2, set3)\n",
    "print(merged_set)\n"
   ]
  },
  {
   "cell_type": "code",
   "execution_count": 171,
   "id": "590b8e91-65da-4b3f-94ea-9c11bf271371",
   "metadata": {},
   "outputs": [],
   "source": [
    "# SO THIS IS END OF ASSIGNMENT 2"
   ]
  },
  {
   "cell_type": "code",
   "execution_count": null,
   "id": "000df683-b380-46cd-8f0c-ab33bc77026a",
   "metadata": {},
   "outputs": [],
   "source": []
  }
 ],
 "metadata": {
  "kernelspec": {
   "display_name": "Python 3 (ipykernel)",
   "language": "python",
   "name": "python3"
  },
  "language_info": {
   "codemirror_mode": {
    "name": "ipython",
    "version": 3
   },
   "file_extension": ".py",
   "mimetype": "text/x-python",
   "name": "python",
   "nbconvert_exporter": "python",
   "pygments_lexer": "ipython3",
   "version": "3.10.8"
  }
 },
 "nbformat": 4,
 "nbformat_minor": 5
}
